{
  "nbformat": 4,
  "nbformat_minor": 0,
  "metadata": {
    "colab": {
      "provenance": [],
      "authorship_tag": "ABX9TyPvnJ35WnSILbqsFiqNfZ3J",
      "include_colab_link": true
    },
    "kernelspec": {
      "name": "python3",
      "display_name": "Python 3"
    },
    "language_info": {
      "name": "python"
    }
  },
  "cells": [
    {
      "cell_type": "markdown",
      "metadata": {
        "id": "view-in-github",
        "colab_type": "text"
      },
      "source": [
        "<a href=\"https://colab.research.google.com/github/PosgradoMNA/actividades-de-aprendizaje-LauraIran7/blob/main/A01794099_Data_Analysis_with_Python_Module_1.ipynb\" target=\"_parent\"><img src=\"https://colab.research.google.com/assets/colab-badge.svg\" alt=\"Open In Colab\"/></a>"
      ]
    },
    {
      "cell_type": "markdown",
      "source": [
        "#**Data Analysis with Python (IBM)**\n",
        "\n",
        "Written notes corresponding to the course Data Analysis with Python (IBM), Module 1.\n",
        "\n",
        "#By: Laura Irán González Ojeda - A01794099\n",
        "\n",
        "##**Module 1 - Introduction**\n",
        "\n",
        "###Why Data Analysis?\n",
        "\n",
        "Data analysis, and in essence, data science, helps us unlock the information and insights from raw data, to answer our questions.\n",
        "\n",
        "So data analysis plays an important role:\n",
        "* By helping us to discover useful information from the data\n",
        "* Answer questions\n",
        "* Predict the future or the unknown.\n",
        "\n",
        "###Python Packages for Data Science\n",
        "A Python library is a collection of functions and methods that allow you to perform lots of actions without writing any code.\n",
        "\n",
        "The libraries usually contain built-in modules providing different functionalities, which you can use directly.\n",
        "\n",
        "We have divided the Python data analysis libraries into three groups:\n",
        "\n",
        "1. The first group is called **\"scientific computing libraries.\"**\n",
        " \n",
        " * **Pandas** offers data structure and tools for effective data manipulation \n",
        " * **Numpy** uses arrays for its inputs and outputs.\n",
        " * **SciPy** includes functions for some advanced math problems.\n",
        "\n",
        "2. **Data Visualization libraries**\n",
        " * **Matplotlib** package is the most well-known library for data visualization.\n",
        "It is great for making graphs and plots.\n",
        " * **Seaborn** It is based on Matplotlib. It's very easy to generate various plots such as heat maps, time series, and violin plots.\n",
        "\n",
        "3. **Algorithmic libraries**\n",
        "  * **Scikit-learn** library contains tools for statistical modeling, including regression, classification, clustering and so on. This library is built on NumPy, SciPy and Matplotlib.\n",
        "  * **StatsModels** is also a Python module that allows users to explore data, estimate statistical models, and perform statistical tests."
      ],
      "metadata": {
        "id": "j7cT8MXkWciQ"
      }
    }
  ]
}