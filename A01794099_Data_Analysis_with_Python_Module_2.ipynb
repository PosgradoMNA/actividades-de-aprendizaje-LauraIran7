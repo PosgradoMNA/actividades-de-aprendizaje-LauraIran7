{
  "nbformat": 4,
  "nbformat_minor": 0,
  "metadata": {
    "colab": {
      "provenance": [],
      "authorship_tag": "ABX9TyMG1HDdFviGDxjy4OCCHjnA",
      "include_colab_link": true
    },
    "kernelspec": {
      "name": "python3",
      "display_name": "Python 3"
    },
    "language_info": {
      "name": "python"
    }
  },
  "cells": [
    {
      "cell_type": "markdown",
      "metadata": {
        "id": "view-in-github",
        "colab_type": "text"
      },
      "source": [
        "<a href=\"https://colab.research.google.com/github/PosgradoMNA/actividades-de-aprendizaje-LauraIran7/blob/main/A01794099_Data_Analysis_with_Python_Module_2.ipynb\" target=\"_parent\"><img src=\"https://colab.research.google.com/assets/colab-badge.svg\" alt=\"Open In Colab\"/></a>"
      ]
    },
    {
      "cell_type": "markdown",
      "source": [
        "#**Data Analysis with Python (IBM)**\n",
        "Written notes corresponding to the course Data Analysis with Python (IBM), Module 2.\n",
        "\n",
        "##By: Laura Irán González Ojeda - A01794099\n",
        "\n",
        "#**Module 2 - Data Wrangling**\n",
        "\n",
        "**Data Pre-processing:** It is the process of converting or mapping data from one “raw” form into anothernformat to make it ready for further analysis.\n",
        "Data pre-processing is also often called “data cleaning” or “data wrangling”\n",
        "\n",
        "##Dealing with missing values in Python\n",
        "**Missing value:** When no data value is stored for a feature for a particular observation.\n",
        "\n",
        "How can you deal with missing data?\n",
        "* Check with the data collection source\n",
        "* Drop the missing values --> **dataframes.dropna()**\n",
        " * Drop the variable\n",
        " * Drop the data entry\n",
        "* Replace the missing values --> **dataframe.replace(missing_value, new_value)**\n",
        " * Replace it with an average (of similar datapoints)\n",
        " * Replace it by frequency\n",
        " * Replace it based on other functions\n",
        "* Leave it as missing data\n",
        "\n",
        "##Data Formatting in Python\n",
        "\n",
        "As a part of dataset cleaning, data formatting ensures that data is consistent and easily understandable.\n",
        "\n",
        "##Data Normalization in Python\n",
        "\n",
        "Approaches for normalization:\n",
        "* Simple Freature scaling\n",
        "* Min-Max: el normalizador mínimo-máximo vuelve a escalar linealmente todas las características del intervalo [0,1]. Para cambiar la escala del intervalo [0,1] se cambian los valores de cada característica para que el valor mínimo sea 0, y, luego, se divide por el nuevo valor máximo (que es la diferencia entre los valores máximos y mínimos originales). Los valores de la columna se transforman mediante la fórmula siguiente:\n",
        "\n",
        "![image.png](data:image/png;base64,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)\n",
        "\n",
        "* Z-score: Convierte todos los valores en puntuación z. Los valores de la columna se transforman mediante la fórmula siguiente:\n",
        "\n",
        "![image.png](data:image/png;base64,iVBORw0KGgoAAAANSUhEUgAAAOIAAABVCAIAAADbva9NAAAKNElEQVR4nO2dzZGruhaFdV+duepV3TGOQI5AjgBHgCOACCACEwFEABGYCEwEKAKYuquPFYHfYD2rdAXtH6Bvm+P9jdqyEGp7ebO1hZf/Op0+GUG8Nr8YY3///d+fngZBfMnHx+///PQcCOI+JFNiAZBMiQVAMiUWAMmUWAAkU2IBkEyJBUAyJRYAyZRYACRTYgGQTIkFQDIlFgDJlLiDUmq32yml7vbUWj/Y81lIpsQt8jzf7Xa+7wsh7nbmnAdBsNvt8jyfeR6n0+eFIIbY7/dCiKZpnjqqbVshRBzHc03jdPokmRLDFEXheV5RFCOOPRwOnudlWTbLTE6nz79Op0+6LZpw0FpvNhvP8w6Hw7gRoiiqqupwODySLdyGbosmhsnzXGsdBMHoEXDsXEnqe8lUKbX6J1prxth2u3Va3hmtdVmWjDEp5ehBpJSc86qqZln4v5dMhRBt25pXP8syzjlj7HA4cM6llE3ToGV2uq5L0zRN09Vq1XUdY6wsy/V6vVqtTMipqgofmCRJBgdJ03Sz2eDjtN1uMY6N1jpJEnTAitseX2uNOazXa7Sg2ITRzOezqiqtted5nuc54+d5jn8hTVMzZhRFOJ3TGZf7uq6ff7V6vOES6nw+Syk9zwuCAC1FUZi/vwMsKYCU8nK57Pd704JT232EEP0RhBBBEGDdnWWZPX+nz/l8vlwuYRgKITzPOx6Pl8ulaRrnjE3ToAMwK/o4jvuDY0DPom3b8/ns+z4e+r7v9P9qnGd535X+8XjEi5tl2fF47L/E3wHe5v1+XxSF7/tN00BtmIMQoigKiMl5a7Ho3u/3zvztbhiq38dRPD4eWZahbIT+QRDY3fAZ/qqihA8DigBBENxYzmNK/Y/cs7yvTC/XFxFhoG3bf+GMePuhUQQ8xJvD4YB843JVpP3eDwo3CAIciId91X7ViODXNI3v++ZwKaXdDSq0Fe8ArQshzAiDmFcY/+xoTqfP98pNbcIwRJKqtb6bj1ZVtXqMqqoGR+i6rus6rCpMTlzXNVriOLYzOd/3zYHIU+M4xkNsSNZ1Hcex6YZM0fQxZ3SG6rpOKeV5XlVVQRDgqbquu657arVkxrQHv0E/h36WXxOPXzScc85513VRFBVFcaMnIu6Ucxn5Ip6xqz4QlvB+a63rukYwQ+e6rpVSQgghRJ7nXdeVZSmltOuRZVkqpfr7mVC8rT+0cM7tYhMm9qDggOd5GKSu60f03V+KPcv7RtM8zznnWZYxxuq6nn8b+p8Y0Tj64JyHYYiWsiy11rZiUM1BHU0pxTk/Ho9FUdiKxDhOjVMpVVWVs1o3taH9fm8f7nRDpL9RmIuiCOp8pNiEWHC3223eVKZVVdV1vd/vpZS4VqZpOk/p5AvwjhpFsqtw7ZZ+YINWwjBs2zbLMuSyGM2UhDCyE0qRKjgxcvCM/TI+JPjVlTrPc9QT2L1iEyY/PZSy95Rp13VJkiCOMitJTdP0m2r7CJO4dqOlqqqu68zlnjGmlELiiGwVjYhDVVWh3o7JR1G03W5NzENubUesJEnwUAhhhkJybJ+RXT8Ydjd2VbwtU631er3O8xwzieMY1XsTTQcLvXh2yh6B4e1kircZajCN5hIWRdF3nBRvmK2P/lLJtKRpatqxosfnCku0zWajlMqyDEGRcy6E0FojaVFKJUkShiFEprU2ahvMQbGGw9rONPq+j0ZzbF3X2BqIosgkDDhvFEVRFNkR+sZ/PZ53K0iZgrap59mVdqfQPRcoRdllL0RWu1KDaZjivKFtW4gVWwP9OlHbtliWSSlNJQstdmELgzilNyEEFmTOmKa8iofYEHF6onb2VTkP5bAwDO+9NvehO6SIYbTWyCvoDinidUH9QSk1rgCCOoMpBk/nreumxA2CIEA+iiv74wciYfV9fzBhHcm75abEU/Q3b2+Djd8Zv2Fymbinfz6f7ftr7LtvJu7hEi8F1nCPLCtxw9Ttjf4RTFpClWXZr5ZJKW/vOhLEs3x8/B6fmyqlnHVcnucPpiOr1WrcSSdurBMLZbaCVJ7n5qYKgpiR2QpSZVmSRonvY4aCVFmW9r1nL8LovIL4PkbnbFOjKTQ6VxWXIAaZFE0djXZdV1XVnEXdCdBi609ivEz7cTRN0wcNCGilTzzFyJX+YNGUc940zUwTI4j/M3KlP6hRNtMNsATRh27kI14dupGPWAYk0x/G9nWa/n32QV7BlXwqdCPfD9L3lpqdLMtg+/P4lIQQcznozsJbm/O8Ds4Xj+Yd+RVcySfy1uY8r8PgF+2nU5ZlnucjvukBAykcPu+UxkPR9PsIw/CRqy12SeY9NW5an+I0CP/A2b9kOwKKpt9IkiR1Xd/dloPTxOwl51dzJZ8IyXR+sF7GZvLdzjNag9gTeDVX8omQTMfQdR28wI29t7FLyfN8vV7DwqSu676VZJ7ncC6Hf0nfN88waGFelmWaptvt1t4IxA+PrNdrSOqGKzm81Xe73WazMfWvsixxIscTak5X8olQbjoCKaVZQcNs1rH3wA24jh3I+XyGLzMSVuNW0s8gv7Iwt23FnXQWpibwRPnKTdz2NTd+0MYs1/b1BXO5kk+EctMxKKWMLym7OqXZ13eTbtrBrOs6RMTD4YC0D7VS1nNZKssyiqIgCIxBpBkcZuQ4HPai5ih8U9k4p7IhKzz8Qob5kYz6yvF4RLszE+P+N/EVmw7J9GlgkwZjD7QIIWyrsMF0M4qirutQIjWNMAC0JQ6vMmNnCbCOMeshc0evLSD8bRTMrm5+g8CuGqa+0PeN/xemfzc6/AuQTJ+Gcw4NRVGEuBXHsb2m7nvfpWmqlDIOlQYY4tmNj1iYm6hpqydN08dvSDcnfbCk+k27uI9DMh0D0kR2jZH2U/BYtL8chnW37QoNYFLueEfaFuZJkuAHnA6Hg3OsY0EKC52nyk92evBg5x+EZDoSRFD4JdntfeNSrLudxMDUjJwrPrtnYQ7QgmhaliWcr82zd13JYftv++jeYBZX8omQTJ+grmtblEg0TVEJ4IpvX8cR85zLfZIkkJHd/oiFuY3WuqqqPM8dp5nbruT4JT5s9zvrsH5P9gKhlJFMnwI/WGO3OG8hHJZRBDA25H3SNJVSIsQqpUzYu2th7pwXRdCiKJxn+67kOClKDSgjmPTUlFr7E/6OrYdxkEyfACo0ARVXW9goo8XU6pGhohGiwaXfmCriKSklLu54eNfC3IBDOOeD6/S+Kzm7Jr6bzYZdawWYGPYLlFL91HZOV/KJUHn/cUw93FgROnffmd9fdO44MSX0OI5hV4g7TfuV87sW5qBpGinljR8H7N8cOLgN0fc+d/6XWVzJJ0Km5n8sL+VKPhH6LtQfy6u5kk+ETM3/WF7LlXwilJv+2byCK/lE6LtQb8GPu5JPhJZQxAKgJRSxDEimxAIgmRILgGRKLACSKbEASKbEAiCZEguAZEosAJIpsQBIpsQCIJkSC+AXY+zj4/dPT4MgbvE/pDI4f8Mz5J8AAAAASUVORK5CYII=)\n",
        "\n"
      ],
      "metadata": {
        "id": "64_Pfg1RUDEV"
      }
    },
    {
      "cell_type": "markdown",
      "source": [
        "##Binning in Python\n",
        "Binning is when you group values together into bins."
      ],
      "metadata": {
        "id": "LsLn4tbL0y6n"
      }
    },
    {
      "cell_type": "code",
      "execution_count": null,
      "metadata": {
        "id": "nB_N7Oy-T8Hz"
      },
      "outputs": [],
      "source": []
    }
  ]
}