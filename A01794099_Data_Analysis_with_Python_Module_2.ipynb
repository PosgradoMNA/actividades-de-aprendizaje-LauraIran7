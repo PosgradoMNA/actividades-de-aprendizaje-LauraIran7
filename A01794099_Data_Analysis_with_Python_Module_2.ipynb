{
  "nbformat": 4,
  "nbformat_minor": 0,
  "metadata": {
    "colab": {
      "provenance": [],
      "authorship_tag": "ABX9TyOvrTiO1AR0ZGxIFUOvFLFJ",
      "include_colab_link": true
    },
    "kernelspec": {
      "name": "python3",
      "display_name": "Python 3"
    },
    "language_info": {
      "name": "python"
    }
  },
  "cells": [
    {
      "cell_type": "markdown",
      "metadata": {
        "id": "view-in-github",
        "colab_type": "text"
      },
      "source": [
        "<a href=\"https://colab.research.google.com/github/PosgradoMNA/actividades-de-aprendizaje-LauraIran7/blob/main/A01794099_Data_Analysis_with_Python_Module_2.ipynb\" target=\"_parent\"><img src=\"https://colab.research.google.com/assets/colab-badge.svg\" alt=\"Open In Colab\"/></a>"
      ]
    },
    {
      "cell_type": "markdown",
      "source": [
        "#**Data Analysis with Python (IBM)**\n",
        "Written notes corresponding to the course Data Analysis with Python (IBM), Module 1.\n",
        "\n",
        "##By: Laura Irán González Ojeda - A01794099\n",
        "\n",
        "#**Module 2 - Data Wrangling**"
      ],
      "metadata": {
        "id": "64_Pfg1RUDEV"
      }
    },
    {
      "cell_type": "code",
      "execution_count": null,
      "metadata": {
        "id": "nB_N7Oy-T8Hz"
      },
      "outputs": [],
      "source": []
    }
  ]
}