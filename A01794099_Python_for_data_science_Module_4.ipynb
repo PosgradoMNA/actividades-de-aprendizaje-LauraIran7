{
  "nbformat": 4,
  "nbformat_minor": 0,
  "metadata": {
    "colab": {
      "provenance": [],
      "authorship_tag": "ABX9TyP5y16XG+LouExrb1gWzgrC",
      "include_colab_link": true
    },
    "kernelspec": {
      "name": "python3",
      "display_name": "Python 3"
    },
    "language_info": {
      "name": "python"
    }
  },
  "cells": [
    {
      "cell_type": "markdown",
      "metadata": {
        "id": "view-in-github",
        "colab_type": "text"
      },
      "source": [
        "<a href=\"https://colab.research.google.com/github/PosgradoMNA/actividades-de-aprendizaje-LauraIran7/blob/main/A01794099_Python_for_data_science_Module_4.ipynb\" target=\"_parent\"><img src=\"https://colab.research.google.com/assets/colab-badge.svg\" alt=\"Open In Colab\"/></a>"
      ]
    },
    {
      "cell_type": "markdown",
      "source": [
        "#Python for Data Science (IBM)\n",
        "\n",
        "Written notes corresponding to the course Python for Data Science (IBM), Module 4.\n",
        "\n",
        "By: **Laura Irán González Ojeda - A01794099**"
      ],
      "metadata": {
        "id": "1r31JeEYQqJ1"
      }
    },
    {
      "cell_type": "markdown",
      "source": [
        "#Module 4 - Working with Data in Python "
      ],
      "metadata": {
        "id": "AETsZGrhQ18X"
      }
    },
    {
      "cell_type": "code",
      "source": [],
      "metadata": {
        "id": "QF70Wgg4Q6IK"
      },
      "execution_count": null,
      "outputs": []
    }
  ]
}