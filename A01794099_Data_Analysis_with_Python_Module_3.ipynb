{
  "nbformat": 4,
  "nbformat_minor": 0,
  "metadata": {
    "colab": {
      "provenance": [],
      "authorship_tag": "ABX9TyOxhQcUUTLaKot48qLWjgQ2",
      "include_colab_link": true
    },
    "kernelspec": {
      "name": "python3",
      "display_name": "Python 3"
    },
    "language_info": {
      "name": "python"
    }
  },
  "cells": [
    {
      "cell_type": "markdown",
      "metadata": {
        "id": "view-in-github",
        "colab_type": "text"
      },
      "source": [
        "<a href=\"https://colab.research.google.com/github/PosgradoMNA/actividades-de-aprendizaje-LauraIran7/blob/main/A01794099_Data_Analysis_with_Python_Module_3.ipynb\" target=\"_parent\"><img src=\"https://colab.research.google.com/assets/colab-badge.svg\" alt=\"Open In Colab\"/></a>"
      ]
    },
    {
      "cell_type": "markdown",
      "source": [
        "#**Data Analysis with Python (IBM)**\n",
        "Written notes corresponding to the course Data Analysis with Python (IBM), Module 3.\n",
        "\n",
        "##By: Laura Irán González Ojeda - A01794099\n",
        "\n",
        "#**Module 3 - Exploratory Data Analysis**\n"
      ],
      "metadata": {
        "id": "FK1TrIFUAca-"
      }
    },
    {
      "cell_type": "markdown",
      "source": [
        "###**Exploratory Data Analysis**\n",
        "or in short “EDA”, is an approach to analyze data in order to:\n",
        "- summarize main characteristics of the data - gain better understanding of the dataset\n",
        "- uncover relationships between different variables\n",
        "- extract important variables for the problem we are trying to solve\n",
        "\n",
        "###**Descriptive Statistics**\n",
        " - descrive() - Descriptive statistics for all numeric values\n",
        " - value_counts() - statistics for categorical values\n",
        " - Box plots\n",
        " - scatter plot\n",
        "\n",
        "###**Grouping data**\n",
        " - df.groupby()\n",
        " - df.pivot()\n",
        " - Heatmap plot\n",
        "\n",
        "###**Analysis of Variance (ANOVA)**\n",
        " - Statistical comparaison of groups\n",
        "ANOVA can be used to find the correlation between different groups of a categorical variable.\n",
        "\n",
        "##**Correlation**\n",
        "Correlation is a statistical metric for measuring to what extent different variables are interdependent.\n",
        "In other words, when we look at two variables over time, if one variable changes, how does\n",
        "this effect change in the other variable?\n",
        "\n",
        "**Statistics**\n",
        "\n",
        "One way to measure the strength of the correlation between continuous numerical variables is\n",
        "by using a method called Pearson Correlation.\n",
        "The Pearson correlation method, will give you two values, the Correlation coefficient\n",
        "and the p-value."
      ],
      "metadata": {
        "id": "-0Ox7EjSAiwF"
      }
    },
    {
      "cell_type": "code",
      "execution_count": null,
      "metadata": {
        "id": "tOew5gApAW4b"
      },
      "outputs": [],
      "source": []
    }
  ]
}