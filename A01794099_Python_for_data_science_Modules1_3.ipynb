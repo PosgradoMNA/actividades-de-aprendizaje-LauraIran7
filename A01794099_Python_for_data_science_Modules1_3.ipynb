{
  "nbformat": 4,
  "nbformat_minor": 0,
  "metadata": {
    "colab": {
      "provenance": [],
      "authorship_tag": "ABX9TyO+Ad1V12zsb8iYazdzMyTY",
      "include_colab_link": true
    },
    "kernelspec": {
      "name": "python3",
      "display_name": "Python 3"
    },
    "language_info": {
      "name": "python"
    }
  },
  "cells": [
    {
      "cell_type": "markdown",
      "metadata": {
        "id": "view-in-github",
        "colab_type": "text"
      },
      "source": [
        "<a href=\"https://colab.research.google.com/github/PosgradoMNA/actividades-de-aprendizaje-LauraIran7/blob/main/A01794099_Python_for_data_science_Modules1_3.ipynb\" target=\"_parent\"><img src=\"https://colab.research.google.com/assets/colab-badge.svg\" alt=\"Open In Colab\"/></a>"
      ]
    },
    {
      "cell_type": "markdown",
      "source": [
        "# Python for Data Science (IBM)"
      ],
      "metadata": {
        "id": "aaVoZWOaJvNy"
      }
    },
    {
      "cell_type": "markdown",
      "source": [
        "# Module 1 - Python Basics\n"
      ],
      "metadata": {
        "id": "XzoTwpa5J370"
      }
    },
    {
      "cell_type": "code",
      "execution_count": 1,
      "metadata": {
        "colab": {
          "base_uri": "https://localhost:8080/"
        },
        "id": "vvnpSfbZJGZa",
        "outputId": "87169acf-2b6d-4912-9bd4-7d085b167731"
      },
      "outputs": [
        {
          "output_type": "stream",
          "name": "stdout",
          "text": [
            "Hello Python 101\n"
          ]
        }
      ],
      "source": [
        "#Fist program\n",
        "print(\"Hello Python 101\")"
      ]
    },
    {
      "cell_type": "code",
      "source": [
        "#Ejercicio\n",
        "print(\"Hello\\nWorld!\")"
      ],
      "metadata": {
        "colab": {
          "base_uri": "https://localhost:8080/"
        },
        "id": "4avS1fsfOV70",
        "outputId": "c3bb2493-9cd8-44cc-9eea-2d5e510214af"
      },
      "execution_count": 18,
      "outputs": [
        {
          "output_type": "stream",
          "name": "stdout",
          "text": [
            "Hello\n",
            "World!\n"
          ]
        }
      ]
    },
    {
      "cell_type": "markdown",
      "source": [
        "**Types**\n",
        "\n",
        "We can see the actual data type in Python by using the type command."
      ],
      "metadata": {
        "id": "RxxsrDX8UXEu"
      }
    },
    {
      "cell_type": "code",
      "source": [
        "#Types\n",
        "float(2)"
      ],
      "metadata": {
        "colab": {
          "base_uri": "https://localhost:8080/"
        },
        "id": "z6w4ZtkhMGmK",
        "outputId": "f8eb74c1-bfdc-4b86-e2b8-f991a54527b0"
      },
      "execution_count": 13,
      "outputs": [
        {
          "output_type": "execute_result",
          "data": {
            "text/plain": [
              "2.0"
            ]
          },
          "metadata": {},
          "execution_count": 13
        }
      ]
    },
    {
      "cell_type": "markdown",
      "source": [
        "You can change the type of the expression\n",
        "in Python; this is called type casting. You can convert an int to a float."
      ],
      "metadata": {
        "id": "uqP42fFeUkxr"
      }
    },
    {
      "cell_type": "code",
      "source": [
        "int(1.1)"
      ],
      "metadata": {
        "colab": {
          "base_uri": "https://localhost:8080/"
        },
        "id": "wl68elcmMrvp",
        "outputId": "ab514385-ef22-40c8-e010-fa299da5fb73"
      },
      "execution_count": 10,
      "outputs": [
        {
          "output_type": "execute_result",
          "data": {
            "text/plain": [
              "1"
            ]
          },
          "metadata": {},
          "execution_count": 10
        }
      ]
    },
    {
      "cell_type": "code",
      "source": [
        "int('1')\n",
        "#int('A') - Error"
      ],
      "metadata": {
        "colab": {
          "base_uri": "https://localhost:8080/"
        },
        "id": "bv_EeDl9MtEh",
        "outputId": "9a38595b-3c55-4e77-ea78-d310a3dbcb0d"
      },
      "execution_count": 12,
      "outputs": [
        {
          "output_type": "execute_result",
          "data": {
            "text/plain": [
              "1"
            ]
          },
          "metadata": {},
          "execution_count": 12
        }
      ]
    },
    {
      "cell_type": "markdown",
      "source": [
        "Boolean is another important type in Python. A Boolean can take on two values: True or False\n",
        "If we cast a Boolean false to an integer or\n",
        "float, we get a zero. If you cast a 1 to a Boolean, you get a true."
      ],
      "metadata": {
        "id": "NEgavSWMUyle"
      }
    },
    {
      "cell_type": "code",
      "source": [
        "type(True)"
      ],
      "metadata": {
        "colab": {
          "base_uri": "https://localhost:8080/"
        },
        "id": "nTc7Zwg6MxHl",
        "outputId": "7f621104-27bf-4440-cfdc-0a41a7870393"
      },
      "execution_count": 14,
      "outputs": [
        {
          "output_type": "execute_result",
          "data": {
            "text/plain": [
              "bool"
            ]
          },
          "metadata": {},
          "execution_count": 14
        }
      ]
    },
    {
      "cell_type": "code",
      "source": [
        "int(True)"
      ],
      "metadata": {
        "colab": {
          "base_uri": "https://localhost:8080/"
        },
        "id": "gR23QRUsMhL7",
        "outputId": "1daae4fe-6b21-47b5-acf1-3ca51fbc870f"
      },
      "execution_count": 15,
      "outputs": [
        {
          "output_type": "execute_result",
          "data": {
            "text/plain": [
              "1"
            ]
          },
          "metadata": {},
          "execution_count": 15
        }
      ]
    },
    {
      "cell_type": "code",
      "source": [
        "#Ejercicios\n",
        "type(int(1.0))"
      ],
      "metadata": {
        "colab": {
          "base_uri": "https://localhost:8080/"
        },
        "id": "oRHnmF8lNf4M",
        "outputId": "4dc7e025-1a06-43b0-ebe7-99e992d0dc05"
      },
      "execution_count": 16,
      "outputs": [
        {
          "output_type": "execute_result",
          "data": {
            "text/plain": [
              "int"
            ]
          },
          "metadata": {},
          "execution_count": 16
        }
      ]
    },
    {
      "cell_type": "code",
      "source": [
        "bool(1)"
      ],
      "metadata": {
        "colab": {
          "base_uri": "https://localhost:8080/"
        },
        "id": "6tpsjHZVOIwW",
        "outputId": "189e4f82-389b-41dc-958f-4d7ee5e3f03a"
      },
      "execution_count": 17,
      "outputs": [
        {
          "output_type": "execute_result",
          "data": {
            "text/plain": [
              "True"
            ]
          },
          "metadata": {},
          "execution_count": 17
        }
      ]
    },
    {
      "cell_type": "code",
      "source": [],
      "metadata": {
        "id": "2ejt-_6GOrym"
      },
      "execution_count": null,
      "outputs": []
    }
  ]
}