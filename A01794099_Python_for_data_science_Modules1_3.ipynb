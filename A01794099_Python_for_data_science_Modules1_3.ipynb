{
  "nbformat": 4,
  "nbformat_minor": 0,
  "metadata": {
    "colab": {
      "provenance": [],
      "authorship_tag": "ABX9TyPqcooY6JXuZS5dEGopoAZV",
      "include_colab_link": true
    },
    "kernelspec": {
      "name": "python3",
      "display_name": "Python 3"
    },
    "language_info": {
      "name": "python"
    }
  },
  "cells": [
    {
      "cell_type": "markdown",
      "metadata": {
        "id": "view-in-github",
        "colab_type": "text"
      },
      "source": [
        "<a href=\"https://colab.research.google.com/github/PosgradoMNA/actividades-de-aprendizaje-LauraIran7/blob/main/A01794099_Python_for_data_science_Modules1_3.ipynb\" target=\"_parent\"><img src=\"https://colab.research.google.com/assets/colab-badge.svg\" alt=\"Open In Colab\"/></a>"
      ]
    },
    {
      "cell_type": "markdown",
      "source": [
        "# Python for Data Science (IBM)\n",
        "\n",
        "Written notes corresponding to the course Python for Data Science (IBM). From Module 1 to Module 3.\n",
        "\n",
        "By:\n",
        "**Laura Irán González Ojeda - A01794099**"
      ],
      "metadata": {
        "id": "aaVoZWOaJvNy"
      }
    },
    {
      "cell_type": "markdown",
      "source": [
        "# Module 1 - Python Basics\n"
      ],
      "metadata": {
        "id": "XzoTwpa5J370"
      }
    },
    {
      "cell_type": "code",
      "execution_count": null,
      "metadata": {
        "colab": {
          "base_uri": "https://localhost:8080/"
        },
        "id": "vvnpSfbZJGZa",
        "outputId": "87169acf-2b6d-4912-9bd4-7d085b167731"
      },
      "outputs": [
        {
          "output_type": "stream",
          "name": "stdout",
          "text": [
            "Hello Python 101\n"
          ]
        }
      ],
      "source": [
        "#Fist program\n",
        "print(\"Hello Python 101\")"
      ]
    },
    {
      "cell_type": "code",
      "source": [
        "#Ejercicio\n",
        "print(\"Hello\\nWorld!\")"
      ],
      "metadata": {
        "colab": {
          "base_uri": "https://localhost:8080/"
        },
        "id": "4avS1fsfOV70",
        "outputId": "c3bb2493-9cd8-44cc-9eea-2d5e510214af"
      },
      "execution_count": null,
      "outputs": [
        {
          "output_type": "stream",
          "name": "stdout",
          "text": [
            "Hello\n",
            "World!\n"
          ]
        }
      ]
    },
    {
      "cell_type": "markdown",
      "source": [
        "**Types**\n",
        "\n",
        "We can see the actual data type in Python by using the type command."
      ],
      "metadata": {
        "id": "RxxsrDX8UXEu"
      }
    },
    {
      "cell_type": "code",
      "source": [
        "#Types\n",
        "float(2)"
      ],
      "metadata": {
        "colab": {
          "base_uri": "https://localhost:8080/"
        },
        "id": "z6w4ZtkhMGmK",
        "outputId": "f8eb74c1-bfdc-4b86-e2b8-f991a54527b0"
      },
      "execution_count": null,
      "outputs": [
        {
          "output_type": "execute_result",
          "data": {
            "text/plain": [
              "2.0"
            ]
          },
          "metadata": {},
          "execution_count": 13
        }
      ]
    },
    {
      "cell_type": "markdown",
      "source": [
        "You can change the type of the expression\n",
        "in Python; this is called type casting. You can convert an int to a float."
      ],
      "metadata": {
        "id": "uqP42fFeUkxr"
      }
    },
    {
      "cell_type": "code",
      "source": [
        "int(1.1)"
      ],
      "metadata": {
        "colab": {
          "base_uri": "https://localhost:8080/"
        },
        "id": "wl68elcmMrvp",
        "outputId": "ab514385-ef22-40c8-e010-fa299da5fb73"
      },
      "execution_count": null,
      "outputs": [
        {
          "output_type": "execute_result",
          "data": {
            "text/plain": [
              "1"
            ]
          },
          "metadata": {},
          "execution_count": 10
        }
      ]
    },
    {
      "cell_type": "code",
      "source": [
        "int('1')\n",
        "#int('A') - Error"
      ],
      "metadata": {
        "colab": {
          "base_uri": "https://localhost:8080/"
        },
        "id": "bv_EeDl9MtEh",
        "outputId": "9a38595b-3c55-4e77-ea78-d310a3dbcb0d"
      },
      "execution_count": null,
      "outputs": [
        {
          "output_type": "execute_result",
          "data": {
            "text/plain": [
              "1"
            ]
          },
          "metadata": {},
          "execution_count": 12
        }
      ]
    },
    {
      "cell_type": "markdown",
      "source": [
        "Boolean is another important type in Python. A Boolean can take on two values: True or False\n",
        "If we cast a Boolean false to an integer or\n",
        "float, we get a zero. If you cast a 1 to a Boolean, you get a true."
      ],
      "metadata": {
        "id": "NEgavSWMUyle"
      }
    },
    {
      "cell_type": "code",
      "source": [
        "type(True)"
      ],
      "metadata": {
        "colab": {
          "base_uri": "https://localhost:8080/"
        },
        "id": "nTc7Zwg6MxHl",
        "outputId": "7f621104-27bf-4440-cfdc-0a41a7870393"
      },
      "execution_count": null,
      "outputs": [
        {
          "output_type": "execute_result",
          "data": {
            "text/plain": [
              "bool"
            ]
          },
          "metadata": {},
          "execution_count": 14
        }
      ]
    },
    {
      "cell_type": "code",
      "source": [
        "int(True)"
      ],
      "metadata": {
        "colab": {
          "base_uri": "https://localhost:8080/"
        },
        "id": "gR23QRUsMhL7",
        "outputId": "1daae4fe-6b21-47b5-acf1-3ca51fbc870f"
      },
      "execution_count": null,
      "outputs": [
        {
          "output_type": "execute_result",
          "data": {
            "text/plain": [
              "1"
            ]
          },
          "metadata": {},
          "execution_count": 15
        }
      ]
    },
    {
      "cell_type": "code",
      "source": [
        "#Ejercicios\n",
        "type(int(1.0))"
      ],
      "metadata": {
        "colab": {
          "base_uri": "https://localhost:8080/"
        },
        "id": "oRHnmF8lNf4M",
        "outputId": "4dc7e025-1a06-43b0-ebe7-99e992d0dc05"
      },
      "execution_count": null,
      "outputs": [
        {
          "output_type": "execute_result",
          "data": {
            "text/plain": [
              "int"
            ]
          },
          "metadata": {},
          "execution_count": 16
        }
      ]
    },
    {
      "cell_type": "code",
      "source": [
        "bool(1)"
      ],
      "metadata": {
        "colab": {
          "base_uri": "https://localhost:8080/"
        },
        "id": "6tpsjHZVOIwW",
        "outputId": "189e4f82-389b-41dc-958f-4d7ee5e3f03a"
      },
      "execution_count": null,
      "outputs": [
        {
          "output_type": "execute_result",
          "data": {
            "text/plain": [
              "True"
            ]
          },
          "metadata": {},
          "execution_count": 17
        }
      ]
    },
    {
      "cell_type": "markdown",
      "source": [
        "**String Operations**\n",
        "\n",
        "In Python, a string is a sequence of characters. A string is contained within two quotes: You could also use single quotes. A string can be spaces, or digits."
      ],
      "metadata": {
        "id": "s_67RsoJawzQ"
      }
    },
    {
      "cell_type": "code",
      "source": [
        "#Backslashes represent the beginning of escape sequences.\n",
        "print(\"Michael Jackson \\n is the best\")"
      ],
      "metadata": {
        "colab": {
          "base_uri": "https://localhost:8080/"
        },
        "id": "DBfzd7UEEHgb",
        "outputId": "9c3cf351-2033-4e20-915e-7ea87d2d696d"
      },
      "execution_count": null,
      "outputs": [
        {
          "output_type": "stream",
          "name": "stdout",
          "text": [
            "Michael Jackson \n",
            " is the best\n"
          ]
        }
      ]
    },
    {
      "cell_type": "code",
      "source": [
        "#Method \"Upper\"\n",
        "A=\"laura\"\n",
        "B=A.upper()\n",
        "B"
      ],
      "metadata": {
        "colab": {
          "base_uri": "https://localhost:8080/",
          "height": 35
        },
        "id": "qnJxIThjHHfs",
        "outputId": "0215747e-c8f9-4409-8d75-4d595caeba5f"
      },
      "execution_count": null,
      "outputs": [
        {
          "output_type": "execute_result",
          "data": {
            "text/plain": [
              "'LAURA'"
            ],
            "application/vnd.google.colaboratory.intrinsic+json": {
              "type": "string"
            }
          },
          "metadata": {},
          "execution_count": 4
        }
      ]
    },
    {
      "cell_type": "code",
      "source": [
        "#Method \"Replace\"\n",
        "A=\"Michael Jackson is the best\"\n",
        "B=A.replace(\"Michael\",\"Janet\")\n",
        "B"
      ],
      "metadata": {
        "colab": {
          "base_uri": "https://localhost:8080/",
          "height": 35
        },
        "id": "8ahQTgtoHYd_",
        "outputId": "ffd020b0-3072-46bd-d1ea-c2b7618b0354"
      },
      "execution_count": null,
      "outputs": [
        {
          "output_type": "execute_result",
          "data": {
            "text/plain": [
              "'Janet Jackson is the best'"
            ],
            "application/vnd.google.colaboratory.intrinsic+json": {
              "type": "string"
            }
          },
          "metadata": {},
          "execution_count": 6
        }
      ]
    },
    {
      "cell_type": "code",
      "source": [
        "#Ejercicios\n",
        "Numbers = \"0123456\"\n",
        "Numbers[::2]"
      ],
      "metadata": {
        "id": "2ejt-_6GOrym",
        "colab": {
          "base_uri": "https://localhost:8080/",
          "height": 35
        },
        "outputId": "ae6ce417-d6d5-4b75-ad78-0c800c6045e1"
      },
      "execution_count": null,
      "outputs": [
        {
          "output_type": "execute_result",
          "data": {
            "text/plain": [
              "'0246'"
            ],
            "application/vnd.google.colaboratory.intrinsic+json": {
              "type": "string"
            }
          },
          "metadata": {},
          "execution_count": 7
        }
      ]
    },
    {
      "cell_type": "code",
      "source": [
        "\"0123456\".find('1')"
      ],
      "metadata": {
        "colab": {
          "base_uri": "https://localhost:8080/"
        },
        "id": "WdFmn6F1I7TU",
        "outputId": "ad8cf657-675e-4f2b-8f1a-a0801fc8514f"
      },
      "execution_count": null,
      "outputs": [
        {
          "output_type": "execute_result",
          "data": {
            "text/plain": [
              "1"
            ]
          },
          "metadata": {},
          "execution_count": 8
        }
      ]
    },
    {
      "cell_type": "markdown",
      "source": [
        "**Review Questions**"
      ],
      "metadata": {
        "id": "-hVR-WsqJHMI"
      }
    },
    {
      "cell_type": "code",
      "source": [
        "#Question 1\n",
        "3 + 2 * 2"
      ],
      "metadata": {
        "colab": {
          "base_uri": "https://localhost:8080/"
        },
        "id": "XFe-RPH0JKLn",
        "outputId": "35d62401-8779-4aea-f27c-b60b17b5c308"
      },
      "execution_count": null,
      "outputs": [
        {
          "output_type": "execute_result",
          "data": {
            "text/plain": [
              "7"
            ]
          },
          "metadata": {},
          "execution_count": 9
        }
      ]
    },
    {
      "cell_type": "code",
      "source": [
        "#Question 2\n",
        "name = 'Lizz'\n",
        "print(name[0:2])"
      ],
      "metadata": {
        "colab": {
          "base_uri": "https://localhost:8080/"
        },
        "id": "bEC1SpIHJOuG",
        "outputId": "93174bd3-3cfc-43d8-f829-f25e73319922"
      },
      "execution_count": null,
      "outputs": [
        {
          "output_type": "stream",
          "name": "stdout",
          "text": [
            "Li\n"
          ]
        }
      ]
    },
    {
      "cell_type": "code",
      "source": [
        "#Question 3\n",
        "var = '01234567'\n",
        "print(var[::2])"
      ],
      "metadata": {
        "colab": {
          "base_uri": "https://localhost:8080/"
        },
        "id": "-7530rLbJYWl",
        "outputId": "12fd7561-0bc3-4dab-d554-91a3cb1fd45d"
      },
      "execution_count": null,
      "outputs": [
        {
          "output_type": "stream",
          "name": "stdout",
          "text": [
            "0246\n"
          ]
        }
      ]
    },
    {
      "cell_type": "code",
      "source": [
        "#Question 4\n",
        "'1'+'2'"
      ],
      "metadata": {
        "colab": {
          "base_uri": "https://localhost:8080/",
          "height": 35
        },
        "id": "4N9Xsi40JgIf",
        "outputId": "0fcf175f-4611-4510-d520-5971d167b065"
      },
      "execution_count": null,
      "outputs": [
        {
          "output_type": "execute_result",
          "data": {
            "text/plain": [
              "'12'"
            ],
            "application/vnd.google.colaboratory.intrinsic+json": {
              "type": "string"
            }
          },
          "metadata": {},
          "execution_count": 12
        }
      ]
    },
    {
      "cell_type": "code",
      "source": [
        " #Question 5\n",
        " myvar = 'hello'\n",
        " print(myvar.upper())"
      ],
      "metadata": {
        "colab": {
          "base_uri": "https://localhost:8080/"
        },
        "id": "VEKyzHSOJk2X",
        "outputId": "762ab207-0942-4035-ac9d-e4dce9c38e03"
      },
      "execution_count": null,
      "outputs": [
        {
          "output_type": "stream",
          "name": "stdout",
          "text": [
            "HELLO\n"
          ]
        }
      ]
    },
    {
      "cell_type": "markdown",
      "source": [
        "# Module 2 - Python Data Structures"
      ],
      "metadata": {
        "id": "GfbiIEsAJ34D"
      }
    },
    {
      "cell_type": "markdown",
      "source": [
        "**Tuples**\n",
        "\n",
        "Tuples are an ordered sequence. Tuples are expressed as comma-separated elements within parentheses. In Python, there are different types: strings, integer, float."
      ],
      "metadata": {
        "id": "K-XyjbM3Q7AE"
      }
    },
    {
      "cell_type": "code",
      "source": [
        "Tuple1 = (\"disco\",10,1.2,\"hard rock\",10)\n",
        "Tuple1[3:5]"
      ],
      "metadata": {
        "id": "T6DqsMV4RIhL",
        "outputId": "0b854135-085f-4445-ba5f-d70ab2ea9040",
        "colab": {
          "base_uri": "https://localhost:8080/"
        }
      },
      "execution_count": null,
      "outputs": [
        {
          "output_type": "execute_result",
          "data": {
            "text/plain": [
              "('hard rock', 10)"
            ]
          },
          "metadata": {},
          "execution_count": 16
        }
      ]
    },
    {
      "cell_type": "code",
      "source": [
        "#Sorted tuple\n",
        "Ratings=(10,9,6,5,10,8,9,6,2)\n",
        "RatingsSorted=sorted(Ratings)\n",
        "RatingsSorted"
      ],
      "metadata": {
        "id": "w9F8-E7rTQFk",
        "outputId": "17e89ccc-6f1f-4d9d-b255-cd5c696a37e9",
        "colab": {
          "base_uri": "https://localhost:8080/"
        }
      },
      "execution_count": null,
      "outputs": [
        {
          "output_type": "execute_result",
          "data": {
            "text/plain": [
              "[2, 5, 6, 6, 8, 9, 9, 10, 10]"
            ]
          },
          "metadata": {},
          "execution_count": 17
        }
      ]
    },
    {
      "cell_type": "code",
      "source": [
        "#Nesting\n",
        "NT = (1,2,(\"pop\",\"rock\"),(3,4),(\"disco\",(1,2)))\n",
        "NT[2]"
      ],
      "metadata": {
        "id": "Uw7rWgvwTm6E",
        "outputId": "aabd53a6-dffe-4761-c826-2545499c5219",
        "colab": {
          "base_uri": "https://localhost:8080/"
        }
      },
      "execution_count": null,
      "outputs": [
        {
          "output_type": "execute_result",
          "data": {
            "text/plain": [
              "('pop', 'rock')"
            ]
          },
          "metadata": {},
          "execution_count": 18
        }
      ]
    },
    {
      "cell_type": "code",
      "source": [
        "#Lists\n",
        "L = [\"Michael\",10.1,1928]"
      ],
      "metadata": {
        "id": "FBkNEobUEw33"
      },
      "execution_count": 1,
      "outputs": []
    },
    {
      "cell_type": "code",
      "source": [
        "#Ejercicios\n",
        "A=(0,1,2,3)\n",
        "A[-1]"
      ],
      "metadata": {
        "colab": {
          "base_uri": "https://localhost:8080/"
        },
        "id": "HP6svfxPLQKQ",
        "outputId": "d6e3ba42-be1a-443f-c019-d2d7fcbf1761"
      },
      "execution_count": 3,
      "outputs": [
        {
          "output_type": "execute_result",
          "data": {
            "text/plain": [
              "3"
            ]
          },
          "metadata": {},
          "execution_count": 3
        }
      ]
    },
    {
      "cell_type": "code",
      "source": [
        "B=[\"a\",\"b\",\"c\"]\n",
        "B[1:]"
      ],
      "metadata": {
        "colab": {
          "base_uri": "https://localhost:8080/"
        },
        "id": "3ajXUUEDLefv",
        "outputId": "006fa128-d163-405b-ec00-379c6fd0b929"
      },
      "execution_count": 4,
      "outputs": [
        {
          "output_type": "execute_result",
          "data": {
            "text/plain": [
              "['b', 'c']"
            ]
          },
          "metadata": {},
          "execution_count": 4
        }
      ]
    },
    {
      "cell_type": "markdown",
      "source": [
        "**Sets**\n",
        "\n",
        "Sets are a type of collection. This means that like lists and tuples, you can input different python types. Unlike lists and tuples they are unordered.\n"
      ],
      "metadata": {
        "id": "ubZpiU68T8sc"
      }
    },
    {
      "cell_type": "code",
      "source": [
        "#You can convert a list to a set by using the function set; this is called type-casting.\n",
        "album_list = [\"Michael Jackson\",\"Thriller\",\"Thriller\",1982]\n",
        "album_set = set(album_list)\n",
        "album_set"
      ],
      "metadata": {
        "colab": {
          "base_uri": "https://localhost:8080/"
        },
        "id": "kU-p4r3OdHDN",
        "outputId": "84e4c46d-1ff9-4985-c71c-711daae347fa"
      },
      "execution_count": 6,
      "outputs": [
        {
          "output_type": "execute_result",
          "data": {
            "text/plain": [
              "{1982, 'Michael Jackson', 'Thriller'}"
            ]
          },
          "metadata": {},
          "execution_count": 6
        }
      ]
    },
    {
      "cell_type": "code",
      "source": [
        "A = {\"Thriller\",\"Back in Black\", \"AC/DC\"}\n",
        "A.add(\"NSYNC\") #Add an item\n",
        "A"
      ],
      "metadata": {
        "colab": {
          "base_uri": "https://localhost:8080/"
        },
        "id": "IAptlkrNdu0W",
        "outputId": "9cc4e517-d4fb-446b-86a5-722a6d1510ca"
      },
      "execution_count": 7,
      "outputs": [
        {
          "output_type": "execute_result",
          "data": {
            "text/plain": [
              "{'AC/DC', 'Back in Black', 'NSYNC', 'Thriller'}"
            ]
          },
          "metadata": {},
          "execution_count": 7
        }
      ]
    },
    {
      "cell_type": "code",
      "source": [
        "#SET OPERATIONS\n",
        "#Intersection: In Python, we simply just place the  '&' between the two sets.\n",
        "Album_set_1 = {\"Thriller\",\"Back in Black\", \"AC/DC\"}\n",
        "Album_set_2 = {\"The dark side of the Moon\",\"Back in Black\", \"AC/DC\"}\n",
        "Album_set_3 = Album_set_1 & Album_set_2\n",
        "Album_set_3"
      ],
      "metadata": {
        "colab": {
          "base_uri": "https://localhost:8080/"
        },
        "id": "epFbYzKheWJs",
        "outputId": "4276a679-d049-4621-e8cf-6ee0f5885e6c"
      },
      "execution_count": 8,
      "outputs": [
        {
          "output_type": "execute_result",
          "data": {
            "text/plain": [
              "{'AC/DC', 'Back in Black'}"
            ]
          },
          "metadata": {},
          "execution_count": 8
        }
      ]
    },
    {
      "cell_type": "code",
      "source": [
        "#Union\n",
        "#The union of two sets is the new set of elements which contain all the items in both sets. We can find the union of the sets album set\n",
        "Album_set_1.union(Album_set_2)"
      ],
      "metadata": {
        "colab": {
          "base_uri": "https://localhost:8080/"
        },
        "id": "EyrsvHuHfTUt",
        "outputId": "1c7c056b-965c-43e6-9500-72034dbce97f"
      },
      "execution_count": 10,
      "outputs": [
        {
          "output_type": "execute_result",
          "data": {
            "text/plain": [
              "{'AC/DC', 'Back in Black', 'The dark side of the Moon', 'Thriller'}"
            ]
          },
          "metadata": {},
          "execution_count": 10
        }
      ]
    },
    {
      "cell_type": "code",
      "source": [
        "#Ejercicios\n",
        "S={'A','B','C'}\n",
        "\n",
        "U={'A','Z','C'}\n",
        "\n",
        "U.union(S)"
      ],
      "metadata": {
        "colab": {
          "base_uri": "https://localhost:8080/"
        },
        "id": "qxeBrybpfrS2",
        "outputId": "c46fe823-89c0-4411-b006-b87728c56e1a"
      },
      "execution_count": 11,
      "outputs": [
        {
          "output_type": "execute_result",
          "data": {
            "text/plain": [
              "{'A', 'B', 'C', 'Z'}"
            ]
          },
          "metadata": {},
          "execution_count": 11
        }
      ]
    },
    {
      "cell_type": "code",
      "source": [
        "S={'A','B','C'}\n",
        "\n",
        "U={'A','Z','C'}\n",
        "\n",
        "X = S&U\n",
        "X"
      ],
      "metadata": {
        "colab": {
          "base_uri": "https://localhost:8080/"
        },
        "id": "B0ryryp3fxix",
        "outputId": "4c08648b-fab7-40eb-e34b-fea2877640ed"
      },
      "execution_count": 12,
      "outputs": [
        {
          "output_type": "execute_result",
          "data": {
            "text/plain": [
              "{'A', 'C'}"
            ]
          },
          "metadata": {},
          "execution_count": 12
        }
      ]
    },
    {
      "cell_type": "markdown",
      "source": [
        "**Dictionaries**\n",
        "\n",
        " Dictionaries are a type of collection in Python.\n",
        "\n",
        "A dictionary has keys and values. The key is analogous to the index, they are like addresses but they don’t have to be integers. They are usually characters; the values are similar to the elements in a list and contain information.\n",
        "To create a dictionary, we use curly brackets. The keys are the first elements; they must be immutable and unique. Each key is followed by a value separated\n",
        "by a colon. The values can be immutable, mutable and duplicates."
      ],
      "metadata": {
        "id": "wnjSKgkTgTlh"
      }
    },
    {
      "cell_type": "code",
      "source": [
        "D = {\"Thriller\":1982,\"Back in Black\":1980, \"The dark side of the Moon\": 1973, \"The bodyguard\":1992}\n",
        "D[\"Thriller\"]\n"
      ],
      "metadata": {
        "colab": {
          "base_uri": "https://localhost:8080/"
        },
        "id": "1JBton9qhJtV",
        "outputId": "a1b16b10-f70d-4abe-eac3-d0c6d98e7287"
      },
      "execution_count": 18,
      "outputs": [
        {
          "output_type": "execute_result",
          "data": {
            "text/plain": [
              "1982"
            ]
          },
          "metadata": {},
          "execution_count": 18
        }
      ]
    },
    {
      "cell_type": "code",
      "source": [
        "#Delete entries by key\n",
        "del(D['Thriller'])\n",
        "D.keys()"
      ],
      "metadata": {
        "colab": {
          "base_uri": "https://localhost:8080/"
        },
        "id": "U9ykfcogiUrq",
        "outputId": "a4ac55bc-4bb3-42c8-bbca-1381c32ccf7c"
      },
      "execution_count": 19,
      "outputs": [
        {
          "output_type": "execute_result",
          "data": {
            "text/plain": [
              "dict_keys(['Back in Black', 'The dark side of the Moon', 'The bodyguard'])"
            ]
          },
          "metadata": {},
          "execution_count": 19
        }
      ]
    },
    {
      "cell_type": "code",
      "source": [
        "#Ejercicios\n",
        "D = {'a':0,'b':1,'c':2}\n",
        "D.values()"
      ],
      "metadata": {
        "colab": {
          "base_uri": "https://localhost:8080/"
        },
        "id": "vVod1ZB7htWb",
        "outputId": "bc050c62-f93f-4bde-d478-f158e4bf54da"
      },
      "execution_count": 15,
      "outputs": [
        {
          "output_type": "execute_result",
          "data": {
            "text/plain": [
              "dict_values([0, 1, 2])"
            ]
          },
          "metadata": {},
          "execution_count": 15
        }
      ]
    },
    {
      "cell_type": "code",
      "source": [
        "D = {'a':0,'b':1,'c':2}\n",
        "D['b']"
      ],
      "metadata": {
        "colab": {
          "base_uri": "https://localhost:8080/"
        },
        "id": "5hWz2mvch0pt",
        "outputId": "e33fd195-bdb5-4c79-ba5c-af9175c0414c"
      },
      "execution_count": 16,
      "outputs": [
        {
          "output_type": "execute_result",
          "data": {
            "text/plain": [
              "1"
            ]
          },
          "metadata": {},
          "execution_count": 16
        }
      ]
    },
    {
      "cell_type": "markdown",
      "source": [
        "**Review Questions**"
      ],
      "metadata": {
        "id": "rctQhLd6jAlr"
      }
    },
    {
      "cell_type": "code",
      "source": [
        "#Question 1\n",
        "A = ('a','b','c')\n",
        "A[0]"
      ],
      "metadata": {
        "colab": {
          "base_uri": "https://localhost:8080/",
          "height": 35
        },
        "id": "zgBFIo7CjENO",
        "outputId": "92c8afe6-208b-4b8a-966d-562b657f1b17"
      },
      "execution_count": 20,
      "outputs": [
        {
          "output_type": "execute_result",
          "data": {
            "text/plain": [
              "'a'"
            ],
            "application/vnd.google.colaboratory.intrinsic+json": {
              "type": "string"
            }
          },
          "metadata": {},
          "execution_count": 20
        }
      ]
    },
    {
      "cell_type": "code",
      "source": [
        "#Question 2\n",
        "L.append(['a','b'])\n",
        "L"
      ],
      "metadata": {
        "colab": {
          "base_uri": "https://localhost:8080/"
        },
        "id": "kHhoCk5djHZc",
        "outputId": "f701a93f-eb39-4458-e76f-7c689f3621db"
      },
      "execution_count": 24,
      "outputs": [
        {
          "output_type": "execute_result",
          "data": {
            "text/plain": [
              "['Michael', 10.1, 1928, ['a', 'b'], ['a', 'b'], ['a', 'b']]"
            ]
          },
          "metadata": {},
          "execution_count": 24
        }
      ]
    },
    {
      "cell_type": "code",
      "source": [
        "#Question 4\n",
        "Dict={\"A\":1,\"B\":\"2\",\"C\":[3,3,3],\"D\":(4,4,4),'E':5,'F':6}\n",
        "Dict[\"D\"]"
      ],
      "metadata": {
        "colab": {
          "base_uri": "https://localhost:8080/"
        },
        "id": "BE904-UtjJ01",
        "outputId": "ac9028da-9b0e-4beb-d47f-154130a84a36"
      },
      "execution_count": 25,
      "outputs": [
        {
          "output_type": "execute_result",
          "data": {
            "text/plain": [
              "(4, 4, 4)"
            ]
          },
          "metadata": {},
          "execution_count": 25
        }
      ]
    },
    {
      "cell_type": "markdown",
      "source": [
        "# Module 3 - Python Programming Fundamentals "
      ],
      "metadata": {
        "id": "Zvx7ShJqj_2w"
      }
    },
    {
      "cell_type": "markdown",
      "source": [
        "**Conditions and Branching**\n",
        "\n",
        "Comparison operations compare some value or operand, then, based on some condition they produce a Boolean.\n",
        "\n",
        "Equality operator:\n",
        "\n",
        "a==7\n",
        "\n",
        "\n",
        "Greater than:\n",
        "\n",
        "i>6\n",
        "\n",
        "i>=6\n",
        "\n",
        "\n",
        "Less than:\n",
        "\n",
        "i<6\n",
        "\n",
        "\n",
        "Inequality:\n",
        "\n",
        "a!=6"
      ],
      "metadata": {
        "id": "DihXGs2okHWS"
      }
    },
    {
      "cell_type": "code",
      "source": [
        "#If statement\n",
        "age=18\n",
        "if(age>18):\n",
        "  print(\"you can enter\")\n",
        "#elseif(age==18):\n",
        "  #print(\"go see Pink Floyd\")\n",
        "else:\n",
        "  print(\"go see Meat Loaf\")\n",
        "print(\"move on\")"
      ],
      "metadata": {
        "id": "Kd_9vqI5rmfi",
        "outputId": "ec89e924-1564-412e-ebb3-31f956b012fa",
        "colab": {
          "base_uri": "https://localhost:8080/"
        }
      },
      "execution_count": 31,
      "outputs": [
        {
          "output_type": "stream",
          "name": "stdout",
          "text": [
            "go see Meat Loaf\n",
            "move on\n"
          ]
        }
      ]
    },
    {
      "cell_type": "code",
      "source": [
        "#OR Operator\n",
        "album_year = 1990\n",
        "if(album_year<1980) or (album_year>1989):\n",
        "  print(\"The album was made in the 70's or 90's\")\n",
        "else:\n",
        "  print(\"The album was made in the 1980's\")"
      ],
      "metadata": {
        "id": "UUjNwvZWs3lW",
        "outputId": "fd7b6f25-a87d-433d-d110-fc0434e7ceec",
        "colab": {
          "base_uri": "https://localhost:8080/"
        }
      },
      "execution_count": 32,
      "outputs": [
        {
          "output_type": "stream",
          "name": "stdout",
          "text": [
            "The album was made in the 70's or 90's\n"
          ]
        }
      ]
    },
    {
      "cell_type": "code",
      "source": [
        "#AND OPERATOR\n",
        "album_year = 1983\n",
        "if(album_year>1979) and (album_year<1990):\n",
        "  print(\"The album was made in the 80s\")"
      ],
      "metadata": {
        "id": "Cpk8qsqhtTyP",
        "outputId": "4a6ccb2b-ba4b-4e5a-fb9c-73e932cff5b1",
        "colab": {
          "base_uri": "https://localhost:8080/"
        }
      },
      "execution_count": 36,
      "outputs": [
        {
          "output_type": "stream",
          "name": "stdout",
          "text": [
            "The album was made in the 80s\n"
          ]
        }
      ]
    },
    {
      "cell_type": "code",
      "source": [
        "#Ejercicios\n",
        "x='a'\n",
        "\n",
        "if(x!='a'):\n",
        "  print(\"This is not a.\")\n",
        "else:\n",
        "  print(\"This is a.\")"
      ],
      "metadata": {
        "id": "sVOnTPsbtpZg",
        "outputId": "aca39b10-2f60-4fd7-8e15-5b79e4434605",
        "colab": {
          "base_uri": "https://localhost:8080/"
        }
      },
      "execution_count": 39,
      "outputs": [
        {
          "output_type": "stream",
          "name": "stdout",
          "text": [
            "This is a.\n"
          ]
        }
      ]
    },
    {
      "cell_type": "markdown",
      "source": [
        "**Loops**\n",
        "\n",
        " Loops perform a task over and over."
      ],
      "metadata": {
        "id": "qohr-JOJuH5z"
      }
    },
    {
      "cell_type": "code",
      "source": [
        "#Range function: The range function outputs an ordered sequence as a list “i”. If the input is a positive integer, the output is a sequence; the sequence contains the same number of elements as the input, but starts at zero.*/\n",
        "x=range(10,15)\n",
        "x"
      ],
      "metadata": {
        "id": "qlXruDbouf7F",
        "outputId": "2966eee4-4b51-4e25-f8fa-82d9cd74f5c2",
        "colab": {
          "base_uri": "https://localhost:8080/"
        }
      },
      "execution_count": 42,
      "outputs": [
        {
          "output_type": "execute_result",
          "data": {
            "text/plain": [
              "range(10, 15)"
            ]
          },
          "metadata": {},
          "execution_count": 42
        }
      ]
    },
    {
      "cell_type": "code",
      "source": [
        "#For Loops\n",
        "squares =  [\"red\",\"yellow\",\"green\"]\n",
        "for i,square in enumerate(squares):\n",
        "  print(square)"
      ],
      "metadata": {
        "id": "VBNRno3yu_Zb",
        "outputId": "8682fb7a-87a7-474e-ba3b-0ee65f56a67d",
        "colab": {
          "base_uri": "https://localhost:8080/"
        }
      },
      "execution_count": 45,
      "outputs": [
        {
          "output_type": "stream",
          "name": "stdout",
          "text": [
            "red\n",
            "yellow\n",
            "green\n"
          ]
        }
      ]
    },
    {
      "cell_type": "code",
      "source": [
        "#While Loops\n",
        "squares =  [\"orange\",\"orange\",\"purple\",\"blue\"]\n",
        "Newsquares = []\n",
        "i=0\n",
        "while(squares[i]==\"orange\"):\n",
        "  Newsquares.append(squares[i])\n",
        "  i=i+1\n",
        "print(Newsquares)"
      ],
      "metadata": {
        "id": "NzYc94bgvaLo",
        "outputId": "4d197467-df03-4fb8-89a0-d0a67a017ba5",
        "colab": {
          "base_uri": "https://localhost:8080/"
        }
      },
      "execution_count": 46,
      "outputs": [
        {
          "output_type": "stream",
          "name": "stdout",
          "text": [
            "['orange', 'orange']\n"
          ]
        }
      ]
    },
    {
      "cell_type": "code",
      "source": [
        "#Ejercicios\n",
        "A=[3,4,5]\n",
        "for a in A:\n",
        "  print(a)"
      ],
      "metadata": {
        "id": "2giSaGHBv-PT",
        "outputId": "b8feeec8-d829-4c6d-f3aa-7aa3e72eb4e8",
        "colab": {
          "base_uri": "https://localhost:8080/"
        }
      },
      "execution_count": 47,
      "outputs": [
        {
          "output_type": "stream",
          "name": "stdout",
          "text": [
            "3\n",
            "4\n",
            "5\n"
          ]
        }
      ]
    },
    {
      "cell_type": "code",
      "source": [
        "x=3\n",
        "\n",
        "y=1\n",
        "\n",
        "while(y!=x):\n",
        "  print(y)\n",
        "  y=y+1"
      ],
      "metadata": {
        "id": "1dWTcyt_wGja",
        "outputId": "a365d190-f698-4dcf-9cd4-78d5d6c6aeee",
        "colab": {
          "base_uri": "https://localhost:8080/"
        }
      },
      "execution_count": 48,
      "outputs": [
        {
          "output_type": "stream",
          "name": "stdout",
          "text": [
            "1\n",
            "2\n"
          ]
        }
      ]
    },
    {
      "cell_type": "markdown",
      "source": [
        "**Functions**\n",
        "\n",
        "Functions take some input then produce some output or change. The function is just a piece of code you can reuse. If we define a function to do the task we\n",
        "just have to call the function. \n"
      ],
      "metadata": {
        "id": "pgaW8x-yweVr"
      }
    },
    {
      "cell_type": "code",
      "source": [
        "#Python Built-in Functions\n",
        "ratings = [10.0,8.5,9.5,6,3.8,7.4,9.7]\n",
        "len(ratings)\n",
        "sum(ratings)"
      ],
      "metadata": {
        "id": "ZBFgMkxPw3zB",
        "outputId": "0b48fe8a-5c5e-4037-e519-035a74afa3ba",
        "colab": {
          "base_uri": "https://localhost:8080/"
        }
      },
      "execution_count": 50,
      "outputs": [
        {
          "output_type": "execute_result",
          "data": {
            "text/plain": [
              "54.89999999999999"
            ]
          },
          "metadata": {},
          "execution_count": 50
        }
      ]
    },
    {
      "cell_type": "code",
      "source": [
        "#Making functions\n",
        "def add1(a):\n",
        "  b=a+1\n",
        "  return b\n",
        "\n",
        "add1(5)"
      ],
      "metadata": {
        "id": "ASqzz66kxkp5",
        "outputId": "58ca2724-a1a0-4681-c3c6-a384305b56e2",
        "colab": {
          "base_uri": "https://localhost:8080/"
        }
      },
      "execution_count": 52,
      "outputs": [
        {
          "output_type": "execute_result",
          "data": {
            "text/plain": [
              "6"
            ]
          },
          "metadata": {},
          "execution_count": 52
        }
      ]
    },
    {
      "cell_type": "code",
      "source": [
        "def Mult(a, b):\n",
        "    c = a * b\n",
        "    return(c)\n",
        "\n",
        "Mult(2,\"Michael Jackson\")"
      ],
      "metadata": {
        "id": "c-4VlMu9yKQB",
        "outputId": "e354e970-d3d5-48b5-b11c-27ce4b1053ed",
        "colab": {
          "base_uri": "https://localhost:8080/",
          "height": 35
        }
      },
      "execution_count": 53,
      "outputs": [
        {
          "output_type": "execute_result",
          "data": {
            "text/plain": [
              "'Michael JacksonMichael Jackson'"
            ],
            "application/vnd.google.colaboratory.intrinsic+json": {
              "type": "string"
            }
          },
          "metadata": {},
          "execution_count": 53
        }
      ]
    },
    {
      "cell_type": "code",
      "source": [
        "#Ejercicios\n",
        "a=1\n",
        "\n",
        "def add(b):\n",
        "  return a+b\n",
        "\n",
        "c=add(10)\n",
        "c"
      ],
      "metadata": {
        "id": "xmqk-OBVyi31",
        "outputId": "eaae6444-239f-47b4-c6a0-98e0f891c8e7",
        "colab": {
          "base_uri": "https://localhost:8080/"
        }
      },
      "execution_count": 56,
      "outputs": [
        {
          "output_type": "execute_result",
          "data": {
            "text/plain": [
              "11"
            ]
          },
          "metadata": {},
          "execution_count": 56
        }
      ]
    },
    {
      "cell_type": "code",
      "source": [
        "def f(*x):\n",
        "  return sum(x)\n",
        "\n",
        "c=f(20)\n",
        "c"
      ],
      "metadata": {
        "id": "gJogjMwByv_8",
        "outputId": "49f7e6bf-a23b-4942-f9f6-a41157afe213",
        "colab": {
          "base_uri": "https://localhost:8080/"
        }
      },
      "execution_count": 59,
      "outputs": [
        {
          "output_type": "execute_result",
          "data": {
            "text/plain": [
              "20"
            ]
          },
          "metadata": {},
          "execution_count": 59
        }
      ]
    },
    {
      "cell_type": "markdown",
      "source": [
        "**Object and Classes**\n",
        "\n",
        "Python has many different kinds of data types: Integers, Floats, Strings, Lists, Dictionaries,\n",
        "Booleans. In Python each is an object. Every object has the following: a type, internal representation, a set of functions called methods to interact with the data.\n",
        "\n",
        "An object is an instance of a particular type."
      ],
      "metadata": {
        "id": "zvVTeVI4zWEV"
      }
    },
    {
      "cell_type": "code",
      "source": [
        "type(\"hola\")"
      ],
      "metadata": {
        "id": "0pjwPuQKzo3p",
        "outputId": "72a8934f-b2d8-4152-cef8-06641eeadf5b",
        "colab": {
          "base_uri": "https://localhost:8080/"
        }
      },
      "execution_count": 60,
      "outputs": [
        {
          "output_type": "execute_result",
          "data": {
            "text/plain": [
              "str"
            ]
          },
          "metadata": {},
          "execution_count": 60
        }
      ]
    },
    {
      "cell_type": "code",
      "source": [
        "#Creating a Class: Circle\n",
        "import matplotlib.pyplot as plt\n",
        "%matplotlib inline\n",
        "class Circle(object):\n",
        "    \n",
        "    # Constructor\n",
        "    def __init__(self, radius=3, color='blue'):\n",
        "        self.radius = radius\n",
        "        self.color = color \n",
        "    \n",
        "    # Method\n",
        "    def add_radius(self, r):\n",
        "        self.radius = self.radius + r\n",
        "        return(self.radius)\n",
        "    \n",
        "    # Method\n",
        "    def drawCircle(self):\n",
        "        plt.gca().add_patch(plt.Circle((0, 0), radius=self.radius, fc=self.color))\n",
        "        plt.axis('scaled')\n",
        "        plt.show()"
      ],
      "metadata": {
        "id": "KFM_Lh1u0HaK"
      },
      "execution_count": 61,
      "outputs": []
    },
    {
      "cell_type": "code",
      "source": [
        "#Creating an instance of a class: circle\n",
        "C1 = Circle(5, 'BLUE')"
      ],
      "metadata": {
        "id": "53HmTHva0j3n"
      },
      "execution_count": 66,
      "outputs": []
    },
    {
      "cell_type": "code",
      "source": [
        "C1.add_radius(8)"
      ],
      "metadata": {
        "id": "OzrdKI_q0xiU",
        "outputId": "4990b855-cbd9-4d5f-ab1b-b2d9a797b9de",
        "colab": {
          "base_uri": "https://localhost:8080/"
        }
      },
      "execution_count": 67,
      "outputs": [
        {
          "output_type": "execute_result",
          "data": {
            "text/plain": [
              "13"
            ]
          },
          "metadata": {},
          "execution_count": 67
        }
      ]
    },
    {
      "cell_type": "code",
      "source": [
        "C1.drawCircle()"
      ],
      "metadata": {
        "id": "qalZXEHI080D",
        "outputId": "7f300d29-c0db-47cc-db08-55600ecfeff0",
        "colab": {
          "base_uri": "https://localhost:8080/",
          "height": 265
        }
      },
      "execution_count": 68,
      "outputs": [
        {
          "output_type": "display_data",
          "data": {
            "text/plain": [
              "<Figure size 432x288 with 1 Axes>"
            ],
            "image/png": "[encoded data removed]"
          },
          "metadata": {
            "needs_background": "light"
          }
        }
      ]
    },
    {
      "cell_type": "code",
      "source": [
        "C2 = Circle(20, 'orange')\n",
        "C2.add_radius(8)\n",
        "C2.drawCircle()"
      ],
      "metadata": {
        "id": "kkQaSNTZ1Mad",
        "outputId": "2a41edd0-264e-4e49-ddbf-618c043db1c6",
        "colab": {
          "base_uri": "https://localhost:8080/",
          "height": 267
        }
      },
      "execution_count": 70,
      "outputs": [
        {
          "output_type": "display_data",
          "data": {
            "text/plain": [
              "<Figure size 432x288 with 1 Axes>"
            ],
            "image/png": "[encoded data removed]"
          },
          "metadata": {
            "needs_background": "light"
          }
        }
      ]
    },
    {
      "cell_type": "code",
      "source": [
        "#Car class\n",
        "\n",
        "class Car(object):\n",
        "    def __init__(self,make,model,color):\n",
        "        self.make=make;\n",
        "        self.model=model;\n",
        "        self.color=color;\n",
        "        self.owner_number=0 \n",
        "    def car_info(self):\n",
        "        print(\"make: \",self.make)\n",
        "        print(\"model:\", self.model)\n",
        "        print(\"color:\",self.color)\n",
        "        print(\"number of owners:\",self.owner_number)\n",
        "    def sell(self):\n",
        "        self.owner_number=self.owner_number+1\n",
        "\n",
        "make=\"BMW\"\n",
        "model=\"M3\"\n",
        "color=\"red\"\n",
        "my_Car=Car(make,model,color)\n",
        "my_Car.car_info()\n",
        "\n",
        "for i in range(5):\n",
        "    my_Car.sell()\n",
        "\n",
        "my_Car.car_info()"
      ],
      "metadata": {
        "id": "TztBMhVs2Uhx",
        "outputId": "5f17724b-ead8-46e6-c23e-05fb9b5c00fc",
        "colab": {
          "base_uri": "https://localhost:8080/"
        }
      },
      "execution_count": 71,
      "outputs": [
        {
          "output_type": "stream",
          "name": "stdout",
          "text": [
            "make:  BMW\n",
            "model: M3\n",
            "color: red\n",
            "number of owners: 0\n",
            "make:  BMW\n",
            "model: M3\n",
            "color: red\n",
            "number of owners: 5\n"
          ]
        }
      ]
    },
    {
      "cell_type": "code",
      "source": [
        "#Ejercicios\n",
        "make=\"Honda\"\n",
        "model=\"Accord\"\n",
        "color=\"blue\"\n",
        "mycar2=Car(\"Honda\",\"Accord\",\"blue\")\n",
        "mycar2.car_info()\n",
        "\n",
        "for i in range(3):\n",
        "    mycar2.sell()\n",
        "\n",
        "mycar2.car_info()"
      ],
      "metadata": {
        "id": "3uX95dTD1i3W",
        "outputId": "ac50a801-4bf6-461f-a2ee-213345e47f2f",
        "colab": {
          "base_uri": "https://localhost:8080/"
        }
      },
      "execution_count": 74,
      "outputs": [
        {
          "output_type": "stream",
          "name": "stdout",
          "text": [
            "make:  Honda\n",
            "model: Accord\n",
            "color: blue\n",
            "number of owners: 0\n",
            "make:  Honda\n",
            "model: Accord\n",
            "color: blue\n",
            "number of owners: 3\n"
          ]
        }
      ]
    },
    {
      "cell_type": "markdown",
      "source": [
        "**Review Questions**"
      ],
      "metadata": {
        "id": "ou4Ma5Do3Q44"
      }
    },
    {
      "cell_type": "code",
      "source": [
        "#Question 1\n",
        "x=1\n",
        "\n",
        "if(x!=1):\n",
        "  print('Hello')\n",
        "else:\n",
        "  print('Hi')\n",
        "print('Mike')"
      ],
      "metadata": {
        "id": "RSJN2bUv3Xnu",
        "outputId": "c97895bc-3e63-485e-8868-e2c656dbadb7",
        "colab": {
          "base_uri": "https://localhost:8080/"
        }
      },
      "execution_count": 75,
      "outputs": [
        {
          "output_type": "stream",
          "name": "stdout",
          "text": [
            "Hi\n",
            "Mike\n"
          ]
        }
      ]
    },
    {
      "cell_type": "code",
      "source": [
        "#Question 2\n",
        "A = ['1','2','3']\n",
        "\n",
        "for a in A:\n",
        "  print(2*a)"
      ],
      "metadata": {
        "id": "IMW2geuL3isn",
        "outputId": "8e927a70-2f66-49ab-c604-f63acfdd45bb",
        "colab": {
          "base_uri": "https://localhost:8080/"
        }
      },
      "execution_count": 76,
      "outputs": [
        {
          "output_type": "stream",
          "name": "stdout",
          "text": [
            "11\n",
            "22\n",
            "33\n"
          ]
        }
      ]
    },
    {
      "cell_type": "code",
      "source": [
        "#Question 3\n",
        "def Delta(x):\n",
        "  if x==0:\n",
        "    y=1;\n",
        "  else:\n",
        "    y=0;\n",
        "  return(y)\n",
        "\n",
        "d=Delta(0)\n",
        "d"
      ],
      "metadata": {
        "id": "SSqQ2d043j_M",
        "outputId": "b4ffeb59-61df-4ac7-ba53-30965f73026c",
        "colab": {
          "base_uri": "https://localhost:8080/"
        }
      },
      "execution_count": 79,
      "outputs": [
        {
          "output_type": "execute_result",
          "data": {
            "text/plain": [
              "1"
            ]
          },
          "metadata": {},
          "execution_count": 79
        }
      ]
    },
    {
      "cell_type": "code",
      "source": [
        "#Question 4\n",
        "B=[10,9,6,5,10,8,9,6,2]\n",
        "B.sort()\n",
        "B"
      ],
      "metadata": {
        "id": "oV_VhW5n3kxR",
        "outputId": "78a6558b-39b0-4fba-a0ec-ae62b17bd537",
        "colab": {
          "base_uri": "https://localhost:8080/"
        }
      },
      "execution_count": 84,
      "outputs": [
        {
          "output_type": "execute_result",
          "data": {
            "text/plain": [
              "[2, 5, 6, 6, 8, 9, 9, 10, 10]"
            ]
          },
          "metadata": {},
          "execution_count": 84
        }
      ]
    },
    {
      "cell_type": "code",
      "source": [
        "#Question 5\n",
        "x={'a':1,'b':2}\n",
        "x.keys()"
      ],
      "metadata": {
        "id": "as4AmvA23lva",
        "outputId": "9f42b479-a864-48af-9832-da3e0aa168f5",
        "colab": {
          "base_uri": "https://localhost:8080/"
        }
      },
      "execution_count": 85,
      "outputs": [
        {
          "output_type": "execute_result",
          "data": {
            "text/plain": [
              "dict_keys(['a', 'b'])"
            ]
          },
          "metadata": {},
          "execution_count": 85
        }
      ]
    },
    {
      "cell_type": "markdown",
      "source": [
        "![image.png](data:image/png;base64,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)"
      ],
      "metadata": {
        "id": "Xfz7idCh5DT5"
      }
    }
  ]
}