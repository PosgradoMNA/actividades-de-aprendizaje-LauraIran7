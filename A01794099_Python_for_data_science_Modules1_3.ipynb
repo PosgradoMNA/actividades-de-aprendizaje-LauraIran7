{
  "nbformat": 4,
  "nbformat_minor": 0,
  "metadata": {
    "colab": {
      "provenance": [],
      "authorship_tag": "ABX9TyODXZiP0SdV5MTmPNHuTBz/",
      "include_colab_link": true
    },
    "kernelspec": {
      "name": "python3",
      "display_name": "Python 3"
    },
    "language_info": {
      "name": "python"
    }
  },
  "cells": [
    {
      "cell_type": "markdown",
      "metadata": {
        "id": "view-in-github",
        "colab_type": "text"
      },
      "source": [
        "<a href=\"https://colab.research.google.com/github/PosgradoMNA/actividades-de-aprendizaje-LauraIran7/blob/main/A01794099_Python_for_data_science_Modules1_3.ipynb\" target=\"_parent\"><img src=\"https://colab.research.google.com/assets/colab-badge.svg\" alt=\"Open In Colab\"/></a>"
      ]
    },
    {
      "cell_type": "markdown",
      "source": [
        "# Python for Data Science (IBM)\n",
        "\n",
        "Written notes corresponding to the course Python for Data Science (IBM). From Module 1 to Module 3.\n",
        "\n",
        "By:\n",
        "**Laura Irán González Ojeda - A01794099**"
      ],
      "metadata": {
        "id": "aaVoZWOaJvNy"
      }
    },
    {
      "cell_type": "markdown",
      "source": [
        "# Module 1 - Python Basics\n"
      ],
      "metadata": {
        "id": "XzoTwpa5J370"
      }
    },
    {
      "cell_type": "code",
      "execution_count": null,
      "metadata": {
        "colab": {
          "base_uri": "https://localhost:8080/"
        },
        "id": "vvnpSfbZJGZa",
        "outputId": "87169acf-2b6d-4912-9bd4-7d085b167731"
      },
      "outputs": [
        {
          "output_type": "stream",
          "name": "stdout",
          "text": [
            "Hello Python 101\n"
          ]
        }
      ],
      "source": [
        "#Fist program\n",
        "print(\"Hello Python 101\")"
      ]
    },
    {
      "cell_type": "code",
      "source": [
        "#Ejercicio\n",
        "print(\"Hello\\nWorld!\")"
      ],
      "metadata": {
        "colab": {
          "base_uri": "https://localhost:8080/"
        },
        "id": "4avS1fsfOV70",
        "outputId": "c3bb2493-9cd8-44cc-9eea-2d5e510214af"
      },
      "execution_count": null,
      "outputs": [
        {
          "output_type": "stream",
          "name": "stdout",
          "text": [
            "Hello\n",
            "World!\n"
          ]
        }
      ]
    },
    {
      "cell_type": "markdown",
      "source": [
        "**Types**\n",
        "\n",
        "We can see the actual data type in Python by using the type command."
      ],
      "metadata": {
        "id": "RxxsrDX8UXEu"
      }
    },
    {
      "cell_type": "code",
      "source": [
        "#Types\n",
        "float(2)"
      ],
      "metadata": {
        "colab": {
          "base_uri": "https://localhost:8080/"
        },
        "id": "z6w4ZtkhMGmK",
        "outputId": "f8eb74c1-bfdc-4b86-e2b8-f991a54527b0"
      },
      "execution_count": null,
      "outputs": [
        {
          "output_type": "execute_result",
          "data": {
            "text/plain": [
              "2.0"
            ]
          },
          "metadata": {},
          "execution_count": 13
        }
      ]
    },
    {
      "cell_type": "markdown",
      "source": [
        "You can change the type of the expression\n",
        "in Python; this is called type casting. You can convert an int to a float."
      ],
      "metadata": {
        "id": "uqP42fFeUkxr"
      }
    },
    {
      "cell_type": "code",
      "source": [
        "int(1.1)"
      ],
      "metadata": {
        "colab": {
          "base_uri": "https://localhost:8080/"
        },
        "id": "wl68elcmMrvp",
        "outputId": "ab514385-ef22-40c8-e010-fa299da5fb73"
      },
      "execution_count": null,
      "outputs": [
        {
          "output_type": "execute_result",
          "data": {
            "text/plain": [
              "1"
            ]
          },
          "metadata": {},
          "execution_count": 10
        }
      ]
    },
    {
      "cell_type": "code",
      "source": [
        "int('1')\n",
        "#int('A') - Error"
      ],
      "metadata": {
        "colab": {
          "base_uri": "https://localhost:8080/"
        },
        "id": "bv_EeDl9MtEh",
        "outputId": "9a38595b-3c55-4e77-ea78-d310a3dbcb0d"
      },
      "execution_count": null,
      "outputs": [
        {
          "output_type": "execute_result",
          "data": {
            "text/plain": [
              "1"
            ]
          },
          "metadata": {},
          "execution_count": 12
        }
      ]
    },
    {
      "cell_type": "markdown",
      "source": [
        "Boolean is another important type in Python. A Boolean can take on two values: True or False\n",
        "If we cast a Boolean false to an integer or\n",
        "float, we get a zero. If you cast a 1 to a Boolean, you get a true."
      ],
      "metadata": {
        "id": "NEgavSWMUyle"
      }
    },
    {
      "cell_type": "code",
      "source": [
        "type(True)"
      ],
      "metadata": {
        "colab": {
          "base_uri": "https://localhost:8080/"
        },
        "id": "nTc7Zwg6MxHl",
        "outputId": "7f621104-27bf-4440-cfdc-0a41a7870393"
      },
      "execution_count": null,
      "outputs": [
        {
          "output_type": "execute_result",
          "data": {
            "text/plain": [
              "bool"
            ]
          },
          "metadata": {},
          "execution_count": 14
        }
      ]
    },
    {
      "cell_type": "code",
      "source": [
        "int(True)"
      ],
      "metadata": {
        "colab": {
          "base_uri": "https://localhost:8080/"
        },
        "id": "gR23QRUsMhL7",
        "outputId": "1daae4fe-6b21-47b5-acf1-3ca51fbc870f"
      },
      "execution_count": null,
      "outputs": [
        {
          "output_type": "execute_result",
          "data": {
            "text/plain": [
              "1"
            ]
          },
          "metadata": {},
          "execution_count": 15
        }
      ]
    },
    {
      "cell_type": "code",
      "source": [
        "#Ejercicios\n",
        "type(int(1.0))"
      ],
      "metadata": {
        "colab": {
          "base_uri": "https://localhost:8080/"
        },
        "id": "oRHnmF8lNf4M",
        "outputId": "4dc7e025-1a06-43b0-ebe7-99e992d0dc05"
      },
      "execution_count": null,
      "outputs": [
        {
          "output_type": "execute_result",
          "data": {
            "text/plain": [
              "int"
            ]
          },
          "metadata": {},
          "execution_count": 16
        }
      ]
    },
    {
      "cell_type": "code",
      "source": [
        "bool(1)"
      ],
      "metadata": {
        "colab": {
          "base_uri": "https://localhost:8080/"
        },
        "id": "6tpsjHZVOIwW",
        "outputId": "189e4f82-389b-41dc-958f-4d7ee5e3f03a"
      },
      "execution_count": null,
      "outputs": [
        {
          "output_type": "execute_result",
          "data": {
            "text/plain": [
              "True"
            ]
          },
          "metadata": {},
          "execution_count": 17
        }
      ]
    },
    {
      "cell_type": "markdown",
      "source": [
        "**String Operations**\n",
        "\n",
        "In Python, a string is a sequence of characters. A string is contained within two quotes: You could also use single quotes. A string can be spaces, or digits."
      ],
      "metadata": {
        "id": "s_67RsoJawzQ"
      }
    },
    {
      "cell_type": "code",
      "source": [
        "#Backslashes represent the beginning of escape sequences.\n",
        "print(\"Michael Jackson \\n is the best\")"
      ],
      "metadata": {
        "colab": {
          "base_uri": "https://localhost:8080/"
        },
        "id": "DBfzd7UEEHgb",
        "outputId": "9c3cf351-2033-4e20-915e-7ea87d2d696d"
      },
      "execution_count": null,
      "outputs": [
        {
          "output_type": "stream",
          "name": "stdout",
          "text": [
            "Michael Jackson \n",
            " is the best\n"
          ]
        }
      ]
    },
    {
      "cell_type": "code",
      "source": [
        "#Method \"Upper\"\n",
        "A=\"laura\"\n",
        "B=A.upper()\n",
        "B"
      ],
      "metadata": {
        "colab": {
          "base_uri": "https://localhost:8080/",
          "height": 35
        },
        "id": "qnJxIThjHHfs",
        "outputId": "0215747e-c8f9-4409-8d75-4d595caeba5f"
      },
      "execution_count": null,
      "outputs": [
        {
          "output_type": "execute_result",
          "data": {
            "text/plain": [
              "'LAURA'"
            ],
            "application/vnd.google.colaboratory.intrinsic+json": {
              "type": "string"
            }
          },
          "metadata": {},
          "execution_count": 4
        }
      ]
    },
    {
      "cell_type": "code",
      "source": [
        "#Method \"Replace\"\n",
        "A=\"Michael Jackson is the best\"\n",
        "B=A.replace(\"Michael\",\"Janet\")\n",
        "B"
      ],
      "metadata": {
        "colab": {
          "base_uri": "https://localhost:8080/",
          "height": 35
        },
        "id": "8ahQTgtoHYd_",
        "outputId": "ffd020b0-3072-46bd-d1ea-c2b7618b0354"
      },
      "execution_count": null,
      "outputs": [
        {
          "output_type": "execute_result",
          "data": {
            "text/plain": [
              "'Janet Jackson is the best'"
            ],
            "application/vnd.google.colaboratory.intrinsic+json": {
              "type": "string"
            }
          },
          "metadata": {},
          "execution_count": 6
        }
      ]
    },
    {
      "cell_type": "code",
      "source": [
        "#Ejercicios\n",
        "Numbers = \"0123456\"\n",
        "Numbers[::2]"
      ],
      "metadata": {
        "id": "2ejt-_6GOrym",
        "colab": {
          "base_uri": "https://localhost:8080/",
          "height": 35
        },
        "outputId": "ae6ce417-d6d5-4b75-ad78-0c800c6045e1"
      },
      "execution_count": null,
      "outputs": [
        {
          "output_type": "execute_result",
          "data": {
            "text/plain": [
              "'0246'"
            ],
            "application/vnd.google.colaboratory.intrinsic+json": {
              "type": "string"
            }
          },
          "metadata": {},
          "execution_count": 7
        }
      ]
    },
    {
      "cell_type": "code",
      "source": [
        "\"0123456\".find('1')"
      ],
      "metadata": {
        "colab": {
          "base_uri": "https://localhost:8080/"
        },
        "id": "WdFmn6F1I7TU",
        "outputId": "ad8cf657-675e-4f2b-8f1a-a0801fc8514f"
      },
      "execution_count": null,
      "outputs": [
        {
          "output_type": "execute_result",
          "data": {
            "text/plain": [
              "1"
            ]
          },
          "metadata": {},
          "execution_count": 8
        }
      ]
    },
    {
      "cell_type": "markdown",
      "source": [
        "**Review Questions**"
      ],
      "metadata": {
        "id": "-hVR-WsqJHMI"
      }
    },
    {
      "cell_type": "code",
      "source": [
        "#Question 1\n",
        "3 + 2 * 2"
      ],
      "metadata": {
        "colab": {
          "base_uri": "https://localhost:8080/"
        },
        "id": "XFe-RPH0JKLn",
        "outputId": "35d62401-8779-4aea-f27c-b60b17b5c308"
      },
      "execution_count": null,
      "outputs": [
        {
          "output_type": "execute_result",
          "data": {
            "text/plain": [
              "7"
            ]
          },
          "metadata": {},
          "execution_count": 9
        }
      ]
    },
    {
      "cell_type": "code",
      "source": [
        "#Question 2\n",
        "name = 'Lizz'\n",
        "print(name[0:2])"
      ],
      "metadata": {
        "colab": {
          "base_uri": "https://localhost:8080/"
        },
        "id": "bEC1SpIHJOuG",
        "outputId": "93174bd3-3cfc-43d8-f829-f25e73319922"
      },
      "execution_count": null,
      "outputs": [
        {
          "output_type": "stream",
          "name": "stdout",
          "text": [
            "Li\n"
          ]
        }
      ]
    },
    {
      "cell_type": "code",
      "source": [
        "#Question 3\n",
        "var = '01234567'\n",
        "print(var[::2])"
      ],
      "metadata": {
        "colab": {
          "base_uri": "https://localhost:8080/"
        },
        "id": "-7530rLbJYWl",
        "outputId": "12fd7561-0bc3-4dab-d554-91a3cb1fd45d"
      },
      "execution_count": null,
      "outputs": [
        {
          "output_type": "stream",
          "name": "stdout",
          "text": [
            "0246\n"
          ]
        }
      ]
    },
    {
      "cell_type": "code",
      "source": [
        "#Question 4\n",
        "'1'+'2'"
      ],
      "metadata": {
        "colab": {
          "base_uri": "https://localhost:8080/",
          "height": 35
        },
        "id": "4N9Xsi40JgIf",
        "outputId": "0fcf175f-4611-4510-d520-5971d167b065"
      },
      "execution_count": null,
      "outputs": [
        {
          "output_type": "execute_result",
          "data": {
            "text/plain": [
              "'12'"
            ],
            "application/vnd.google.colaboratory.intrinsic+json": {
              "type": "string"
            }
          },
          "metadata": {},
          "execution_count": 12
        }
      ]
    },
    {
      "cell_type": "code",
      "source": [
        " #Question 5\n",
        " myvar = 'hello'\n",
        " print(myvar.upper())"
      ],
      "metadata": {
        "colab": {
          "base_uri": "https://localhost:8080/"
        },
        "id": "VEKyzHSOJk2X",
        "outputId": "762ab207-0942-4035-ac9d-e4dce9c38e03"
      },
      "execution_count": null,
      "outputs": [
        {
          "output_type": "stream",
          "name": "stdout",
          "text": [
            "HELLO\n"
          ]
        }
      ]
    },
    {
      "cell_type": "markdown",
      "source": [
        "# Module 2 - Python Data Structures"
      ],
      "metadata": {
        "id": "GfbiIEsAJ34D"
      }
    },
    {
      "cell_type": "markdown",
      "source": [
        "**Tuples**\n",
        "\n",
        "Tuples are an ordered sequence. Tuples are expressed as comma-separated elements within parentheses. In Python, there are different types: strings, integer, float."
      ],
      "metadata": {
        "id": "K-XyjbM3Q7AE"
      }
    },
    {
      "cell_type": "code",
      "source": [
        "Tuple1 = (\"disco\",10,1.2,\"hard rock\",10)\n",
        "Tuple1[3:5]"
      ],
      "metadata": {
        "id": "T6DqsMV4RIhL",
        "outputId": "0b854135-085f-4445-ba5f-d70ab2ea9040",
        "colab": {
          "base_uri": "https://localhost:8080/"
        }
      },
      "execution_count": null,
      "outputs": [
        {
          "output_type": "execute_result",
          "data": {
            "text/plain": [
              "('hard rock', 10)"
            ]
          },
          "metadata": {},
          "execution_count": 16
        }
      ]
    },
    {
      "cell_type": "code",
      "source": [
        "#Sorted tuple\n",
        "Ratings=(10,9,6,5,10,8,9,6,2)\n",
        "RatingsSorted=sorted(Ratings)\n",
        "RatingsSorted"
      ],
      "metadata": {
        "id": "w9F8-E7rTQFk",
        "outputId": "17e89ccc-6f1f-4d9d-b255-cd5c696a37e9",
        "colab": {
          "base_uri": "https://localhost:8080/"
        }
      },
      "execution_count": null,
      "outputs": [
        {
          "output_type": "execute_result",
          "data": {
            "text/plain": [
              "[2, 5, 6, 6, 8, 9, 9, 10, 10]"
            ]
          },
          "metadata": {},
          "execution_count": 17
        }
      ]
    },
    {
      "cell_type": "code",
      "source": [
        "#Nesting\n",
        "NT = (1,2,(\"pop\",\"rock\"),(3,4),(\"disco\",(1,2)))\n",
        "NT[2]"
      ],
      "metadata": {
        "id": "Uw7rWgvwTm6E",
        "outputId": "aabd53a6-dffe-4761-c826-2545499c5219",
        "colab": {
          "base_uri": "https://localhost:8080/"
        }
      },
      "execution_count": null,
      "outputs": [
        {
          "output_type": "execute_result",
          "data": {
            "text/plain": [
              "('pop', 'rock')"
            ]
          },
          "metadata": {},
          "execution_count": 18
        }
      ]
    },
    {
      "cell_type": "code",
      "source": [
        "#Lists\n",
        "L = [\"Michael\",10.1,1928]"
      ],
      "metadata": {
        "id": "FBkNEobUEw33"
      },
      "execution_count": 1,
      "outputs": []
    },
    {
      "cell_type": "code",
      "source": [
        "#Ejercicios\n",
        "A=(0,1,2,3)\n",
        "A[-1]"
      ],
      "metadata": {
        "id": "HP6svfxPLQKQ",
        "outputId": "d6e3ba42-be1a-443f-c019-d2d7fcbf1761",
        "colab": {
          "base_uri": "https://localhost:8080/"
        }
      },
      "execution_count": 3,
      "outputs": [
        {
          "output_type": "execute_result",
          "data": {
            "text/plain": [
              "3"
            ]
          },
          "metadata": {},
          "execution_count": 3
        }
      ]
    },
    {
      "cell_type": "code",
      "source": [
        "B=[\"a\",\"b\",\"c\"]\n",
        "B[1:]"
      ],
      "metadata": {
        "id": "3ajXUUEDLefv",
        "outputId": "006fa128-d163-405b-ec00-379c6fd0b929",
        "colab": {
          "base_uri": "https://localhost:8080/"
        }
      },
      "execution_count": 4,
      "outputs": [
        {
          "output_type": "execute_result",
          "data": {
            "text/plain": [
              "['b', 'c']"
            ]
          },
          "metadata": {},
          "execution_count": 4
        }
      ]
    },
    {
      "cell_type": "markdown",
      "source": [
        "**Sets**\n",
        "\n",
        "Sets are a type of collection. This means that like lists and tuples, you can input different python types. Unlike lists and tuples they are unordered.\n"
      ],
      "metadata": {
        "id": "ubZpiU68T8sc"
      }
    },
    {
      "cell_type": "code",
      "source": [
        "#You can convert a list to a set by using the function set; this is called type-casting.\n",
        "album_list = [\"Michael Jackson\",\"Thriller\",\"Thriller\",1982]\n",
        "album_set = set(album_list)\n",
        "album_set"
      ],
      "metadata": {
        "id": "kU-p4r3OdHDN",
        "outputId": "84e4c46d-1ff9-4985-c71c-711daae347fa",
        "colab": {
          "base_uri": "https://localhost:8080/"
        }
      },
      "execution_count": 6,
      "outputs": [
        {
          "output_type": "execute_result",
          "data": {
            "text/plain": [
              "{1982, 'Michael Jackson', 'Thriller'}"
            ]
          },
          "metadata": {},
          "execution_count": 6
        }
      ]
    },
    {
      "cell_type": "code",
      "source": [
        "A = {\"Thriller\",\"Back in Black\", \"AC/DC\"}\n",
        "A.add(\"NSYNC\") #Add an item\n",
        "A"
      ],
      "metadata": {
        "id": "IAptlkrNdu0W",
        "outputId": "9cc4e517-d4fb-446b-86a5-722a6d1510ca",
        "colab": {
          "base_uri": "https://localhost:8080/"
        }
      },
      "execution_count": 7,
      "outputs": [
        {
          "output_type": "execute_result",
          "data": {
            "text/plain": [
              "{'AC/DC', 'Back in Black', 'NSYNC', 'Thriller'}"
            ]
          },
          "metadata": {},
          "execution_count": 7
        }
      ]
    },
    {
      "cell_type": "code",
      "source": [
        "#SET OPERATIONS\n",
        "#Intersection: In Python, we simply just place the  '&' between the two sets.\n",
        "Album_set_1 = {\"Thriller\",\"Back in Black\", \"AC/DC\"}\n",
        "Album_set_2 = {\"The dark side of the Moon\",\"Back in Black\", \"AC/DC\"}\n",
        "Album_set_3 = Album_set_1 & Album_set_2\n",
        "Album_set_3"
      ],
      "metadata": {
        "id": "epFbYzKheWJs",
        "outputId": "4276a679-d049-4621-e8cf-6ee0f5885e6c",
        "colab": {
          "base_uri": "https://localhost:8080/"
        }
      },
      "execution_count": 8,
      "outputs": [
        {
          "output_type": "execute_result",
          "data": {
            "text/plain": [
              "{'AC/DC', 'Back in Black'}"
            ]
          },
          "metadata": {},
          "execution_count": 8
        }
      ]
    },
    {
      "cell_type": "code",
      "source": [
        "#Union\n",
        "#The union of two sets is the new set of elements which contain all the items in both sets. We can find the union of the sets album set\n",
        "Album_set_1.union(Album_set_2)"
      ],
      "metadata": {
        "id": "EyrsvHuHfTUt",
        "outputId": "1c7c056b-965c-43e6-9500-72034dbce97f",
        "colab": {
          "base_uri": "https://localhost:8080/"
        }
      },
      "execution_count": 10,
      "outputs": [
        {
          "output_type": "execute_result",
          "data": {
            "text/plain": [
              "{'AC/DC', 'Back in Black', 'The dark side of the Moon', 'Thriller'}"
            ]
          },
          "metadata": {},
          "execution_count": 10
        }
      ]
    },
    {
      "cell_type": "code",
      "source": [
        "#Ejercicios\n",
        "S={'A','B','C'}\n",
        "\n",
        "U={'A','Z','C'}\n",
        "\n",
        "U.union(S)"
      ],
      "metadata": {
        "id": "qxeBrybpfrS2",
        "outputId": "c46fe823-89c0-4411-b006-b87728c56e1a",
        "colab": {
          "base_uri": "https://localhost:8080/"
        }
      },
      "execution_count": 11,
      "outputs": [
        {
          "output_type": "execute_result",
          "data": {
            "text/plain": [
              "{'A', 'B', 'C', 'Z'}"
            ]
          },
          "metadata": {},
          "execution_count": 11
        }
      ]
    },
    {
      "cell_type": "code",
      "source": [
        "S={'A','B','C'}\n",
        "\n",
        "U={'A','Z','C'}\n",
        "\n",
        "X = S&U\n",
        "X"
      ],
      "metadata": {
        "id": "B0ryryp3fxix",
        "outputId": "4c08648b-fab7-40eb-e34b-fea2877640ed",
        "colab": {
          "base_uri": "https://localhost:8080/"
        }
      },
      "execution_count": 12,
      "outputs": [
        {
          "output_type": "execute_result",
          "data": {
            "text/plain": [
              "{'A', 'C'}"
            ]
          },
          "metadata": {},
          "execution_count": 12
        }
      ]
    },
    {
      "cell_type": "markdown",
      "source": [
        "**Dictionaries**\n",
        "\n",
        " Dictionaries are a type of collection in Python.\n",
        "\n",
        "A dictionary has keys and values. The key is analogous to the index, they are like addresses but they don’t have to be integers. They are usually characters; the values are similar to the elements in a list and contain information.\n",
        "To create a dictionary, we use curly brackets. The keys are the first elements; they must be immutable and unique. Each key is followed by a value separated\n",
        "by a colon. The values can be immutable, mutable and duplicates."
      ],
      "metadata": {
        "id": "wnjSKgkTgTlh"
      }
    },
    {
      "cell_type": "code",
      "source": [
        "D = {\"Thriller\":1982,\"Back in Black\":1980, \"The dark side of the Moon\": 1973, \"The bodyguard\":1992}\n",
        "D[\"Thriller\"]\n"
      ],
      "metadata": {
        "id": "1JBton9qhJtV",
        "outputId": "a1b16b10-f70d-4abe-eac3-d0c6d98e7287",
        "colab": {
          "base_uri": "https://localhost:8080/"
        }
      },
      "execution_count": 18,
      "outputs": [
        {
          "output_type": "execute_result",
          "data": {
            "text/plain": [
              "1982"
            ]
          },
          "metadata": {},
          "execution_count": 18
        }
      ]
    },
    {
      "cell_type": "code",
      "source": [
        "#Delete entries by key\n",
        "del(D['Thriller'])\n",
        "D.keys()"
      ],
      "metadata": {
        "id": "U9ykfcogiUrq",
        "outputId": "a4ac55bc-4bb3-42c8-bbca-1381c32ccf7c",
        "colab": {
          "base_uri": "https://localhost:8080/"
        }
      },
      "execution_count": 19,
      "outputs": [
        {
          "output_type": "execute_result",
          "data": {
            "text/plain": [
              "dict_keys(['Back in Black', 'The dark side of the Moon', 'The bodyguard'])"
            ]
          },
          "metadata": {},
          "execution_count": 19
        }
      ]
    },
    {
      "cell_type": "code",
      "source": [
        "#Ejercicios\n",
        "D = {'a':0,'b':1,'c':2}\n",
        "D.values()"
      ],
      "metadata": {
        "id": "vVod1ZB7htWb",
        "outputId": "bc050c62-f93f-4bde-d478-f158e4bf54da",
        "colab": {
          "base_uri": "https://localhost:8080/"
        }
      },
      "execution_count": 15,
      "outputs": [
        {
          "output_type": "execute_result",
          "data": {
            "text/plain": [
              "dict_values([0, 1, 2])"
            ]
          },
          "metadata": {},
          "execution_count": 15
        }
      ]
    },
    {
      "cell_type": "code",
      "source": [
        "D = {'a':0,'b':1,'c':2}\n",
        "D['b']"
      ],
      "metadata": {
        "id": "5hWz2mvch0pt",
        "outputId": "e33fd195-bdb5-4c79-ba5c-af9175c0414c",
        "colab": {
          "base_uri": "https://localhost:8080/"
        }
      },
      "execution_count": 16,
      "outputs": [
        {
          "output_type": "execute_result",
          "data": {
            "text/plain": [
              "1"
            ]
          },
          "metadata": {},
          "execution_count": 16
        }
      ]
    },
    {
      "cell_type": "markdown",
      "source": [
        "**Review Questions**"
      ],
      "metadata": {
        "id": "rctQhLd6jAlr"
      }
    },
    {
      "cell_type": "code",
      "source": [
        "#Question 1\n",
        "A = ('a','b','c')\n",
        "A[0]"
      ],
      "metadata": {
        "id": "zgBFIo7CjENO",
        "outputId": "92c8afe6-208b-4b8a-966d-562b657f1b17",
        "colab": {
          "base_uri": "https://localhost:8080/",
          "height": 35
        }
      },
      "execution_count": 20,
      "outputs": [
        {
          "output_type": "execute_result",
          "data": {
            "text/plain": [
              "'a'"
            ],
            "application/vnd.google.colaboratory.intrinsic+json": {
              "type": "string"
            }
          },
          "metadata": {},
          "execution_count": 20
        }
      ]
    },
    {
      "cell_type": "code",
      "source": [
        "#Question 2\n",
        "L.append(['a','b'])\n",
        "L"
      ],
      "metadata": {
        "id": "kHhoCk5djHZc",
        "outputId": "f701a93f-eb39-4458-e76f-7c689f3621db",
        "colab": {
          "base_uri": "https://localhost:8080/"
        }
      },
      "execution_count": 24,
      "outputs": [
        {
          "output_type": "execute_result",
          "data": {
            "text/plain": [
              "['Michael', 10.1, 1928, ['a', 'b'], ['a', 'b'], ['a', 'b']]"
            ]
          },
          "metadata": {},
          "execution_count": 24
        }
      ]
    },
    {
      "cell_type": "code",
      "source": [
        "#Question 4\n",
        "Dict={\"A\":1,\"B\":\"2\",\"C\":[3,3,3],\"D\":(4,4,4),'E':5,'F':6}\n",
        "Dict[\"D\"]"
      ],
      "metadata": {
        "id": "BE904-UtjJ01",
        "outputId": "ac9028da-9b0e-4beb-d47f-154130a84a36",
        "colab": {
          "base_uri": "https://localhost:8080/"
        }
      },
      "execution_count": 25,
      "outputs": [
        {
          "output_type": "execute_result",
          "data": {
            "text/plain": [
              "(4, 4, 4)"
            ]
          },
          "metadata": {},
          "execution_count": 25
        }
      ]
    },
    {
      "cell_type": "markdown",
      "source": [
        "# Module 3 - Python Programming Fundamentals "
      ],
      "metadata": {
        "id": "Zvx7ShJqj_2w"
      }
    },
    {
      "cell_type": "markdown",
      "source": [
        "**Conditions and Branching**\n",
        "\n"
      ],
      "metadata": {
        "id": "DihXGs2okHWS"
      }
    }
  ]
}