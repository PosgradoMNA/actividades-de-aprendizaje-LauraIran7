{
  "nbformat": 4,
  "nbformat_minor": 0,
  "metadata": {
    "colab": {
      "provenance": [],
      "authorship_tag": "ABX9TyOqsrbvaTEfOHgtP39cRE1J",
      "include_colab_link": true
    },
    "kernelspec": {
      "name": "python3",
      "display_name": "Python 3"
    },
    "language_info": {
      "name": "python"
    }
  },
  "cells": [
    {
      "cell_type": "markdown",
      "metadata": {
        "id": "view-in-github",
        "colab_type": "text"
      },
      "source": [
        "<a href=\"https://colab.research.google.com/github/PosgradoMNA/actividades-de-aprendizaje-LauraIran7/blob/main/ActividadSemanal_6_Visualizacion_A01794099.ipynb\" target=\"_parent\"><img src=\"https://colab.research.google.com/assets/colab-badge.svg\" alt=\"Open In Colab\"/></a>"
      ]
    },
    {
      "cell_type": "markdown",
      "source": [
        "#Actividad Semanal - 6: Visualización\n",
        "\n",
        "##Curso: Ciencia y Analítica de Datos\n",
        "\n",
        "###Tecnológico de Monterrey\n",
        "###Programa: Maestría en Inteligencia Artificial Aplicada (MNA-V)\n",
        "\n",
        "\n",
        "Fecha de Entrega: Martes 1 de Noviembre de 2022.\n",
        "\n",
        "**Alumna**\n",
        "* **Laura Irán González Ojeda - A01794099**"
      ],
      "metadata": {
        "id": "MMp61IlTmU3_"
      }
    },
    {
      "cell_type": "code",
      "source": [],
      "metadata": {
        "id": "wpzN9HvImZTw"
      },
      "execution_count": null,
      "outputs": []
    },
    {
      "cell_type": "code",
      "execution_count": null,
      "metadata": {
        "id": "WJaL9HR1mUVM"
      },
      "outputs": [],
      "source": []
    }
  ]
}